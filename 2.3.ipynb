{
 "cells": [
  {
   "cell_type": "markdown",
   "metadata": {
    "id": "BRL8IcsoRWs6"
   },
   "source": [
    "# Capítol 2 - Algorismes bàsics de Python"
   ]
  },
  {
   "cell_type": "markdown",
   "metadata": {
    "id": "P21ZKtTJRWtA"
   },
   "source": [
    "### 2.3 Condicionals"
   ]
  },
  {
   "cell_type": "code",
   "execution_count": null,
   "metadata": {
    "id": "xk1uGp8sRWtA"
   },
   "outputs": [],
   "source": [
    "\n",
    "    \"\"\"\n",
    "    Aquest programa prediu com anirà la festa en funció de les cerveses.\n",
    "    \n",
    "    Parameters\n",
    "    ----------\n",
    "    numCerveses: int\n",
    "    esCapDeSetmana: bool\n",
    "       \n",
    "    Returns\n",
    "    -------\n",
    "    None\n",
    "    \"\"\"\n"
   ]
  },
  {
   "cell_type": "code",
   "execution_count": 4,
   "metadata": {},
   "outputs": [
    {
     "name": "stdout",
     "output_type": "stream",
     "text": [
      "si\n"
     ]
    }
   ],
   "source": [
    "def prou_cerveses(numCerveses, esCapDeSetmana):\n",
    "    pred = ''\n",
    "    if numCerveses < 75 or (numCerveses >= 125 and not esCapDeSetmana):\n",
    "        print(\"no\")\n",
    "        pred = 'Fracàs'\n",
    "    else:\n",
    "        print(\"si\")\n",
    "        pred = 'Éxit'\n",
    "    return pred\n",
    "\n",
    "        \n",
    "assert prou_cerveses(75, False) == 'Éxit'"
   ]
  },
  {
   "cell_type": "code",
   "execution_count": 22,
   "metadata": {
    "id": "1A7s9xnERWtB"
   },
   "outputs": [
    {
     "name": "stdout",
     "output_type": "stream",
     "text": [
      "si\n",
      "si\n",
      "si\n",
      "no\n",
      "no\n",
      "no\n"
     ]
    }
   ],
   "source": [
    "assert prou_cerveses(75, False) == 'Éxit'\n",
    "assert prou_cerveses(75, False) == 'Éxit'\n",
    "assert prou_cerveses(125, True) == 'Éxit'\n",
    "\n",
    "assert prou_cerveses(25, False) == 'Fracàs'\n",
    "assert prou_cerveses(25, True) == 'Fracàs'\n",
    "assert prou_cerveses(125, False) == 'Fracàs'"
   ]
  },
  {
   "cell_type": "code",
   "execution_count": null,
   "metadata": {
    "id": "YlMDFJOvRWtB"
   },
   "outputs": [],
   "source": [
    "\n",
    "    \"\"\"\n",
    "    Aquesta funció retorna la qualificació d'un alumne.\n",
    "    \n",
    "    Parameters\n",
    "    ----------\n",
    "    num: float\n",
    "       \n",
    "    Returns\n",
    "    -------\n",
    "    qualificació: string\n",
    "    \"\"\"\n",
    "\n"
   ]
  },
  {
   "cell_type": "code",
   "execution_count": 29,
   "metadata": {},
   "outputs": [],
   "source": [
    "def nota(num):\n",
    "    qualific = ''\n",
    "    if num == 10:\n",
    "        qualific = 'Matrícula d\\'honor'\n",
    "    elif num >= 5 and num < 7:\n",
    "        qualific = 'Aprovat'\n",
    "    elif num >= 7 and num < 8.5:\n",
    "        qualific = 'Notable'\n",
    "    elif num >= 8.5:\n",
    "        qualific ='Excel·lent'       \n",
    "    else:\n",
    "        qualific = 'Suspès'\n",
    "    return qualific"
   ]
  },
  {
   "cell_type": "code",
   "execution_count": 30,
   "metadata": {
    "id": "3F0m7f53RWtC",
    "scrolled": false
   },
   "outputs": [],
   "source": [
    "assert nota(0.9) == 'Suspès'\n",
    "assert nota(5.9) == 'Aprovat'\n",
    "assert nota(7.9) == 'Notable'\n",
    "assert nota(9.9) == 'Excel·lent'\n",
    "assert nota(10) == 'Matrícula d\\'honor'"
   ]
  }
 ],
 "metadata": {
  "colab": {
   "collapsed_sections": [],
   "name": "2.3.ipynb",
   "provenance": []
  },
  "kernelspec": {
   "display_name": "Python 3 (ipykernel)",
   "language": "python",
   "name": "python3"
  },
  "language_info": {
   "codemirror_mode": {
    "name": "ipython",
    "version": 3
   },
   "file_extension": ".py",
   "mimetype": "text/x-python",
   "name": "python",
   "nbconvert_exporter": "python",
   "pygments_lexer": "ipython3",
   "version": "3.11.4"
  }
 },
 "nbformat": 4,
 "nbformat_minor": 1
}
