{
 "cells": [
  {
   "cell_type": "markdown",
   "metadata": {
    "id": "5FyFNqIKdPSY"
   },
   "source": [
    "# Capítol 4 - Algorismes i Text"
   ]
  },
  {
   "cell_type": "markdown",
   "metadata": {
    "id": "-hs_7U4JdPSe"
   },
   "source": [
    "### 4.3 Cadenes Isomorfes"
   ]
  },
  {
   "cell_type": "code",
   "execution_count": 22,
   "metadata": {
    "id": "x6GSTFjddPSf"
   },
   "outputs": [
    {
     "name": "stdout",
     "output_type": "stream",
     "text": [
      "{'C': 'D', 'B': 'E', 'A': 'F'}\n"
     ]
    },
    {
     "data": {
      "text/plain": [
       "False"
      ]
     },
     "execution_count": 22,
     "metadata": {},
     "output_type": "execute_result"
    }
   ],
   "source": [
    "\"\"\"\n",
    "    Aquesta funció comprova si dues cadenes son isomorfes\n",
    "    \n",
    "    Parameters\n",
    "    ----------\n",
    "    cadX: String\n",
    "    cadY: String\n",
    "    \n",
    "    Returns\n",
    "    -------\n",
    "    esIsomorf: bool\n",
    "\"\"\"\n",
    "    \n",
    "def isomorf(cadX, cadY):\n",
    "    esIsomorf = len(cadX) == len(cadY)\n",
    "    if esIsomorf:\n",
    "        dicc = {i: j for i, j in zip(cadX, cadY)}\n",
    "        print(dicc)\n",
    "        esIsomorf = all(dicc.get(k) == cadY[k] for k in range(len(cadX)))\n",
    "    return esIsomorf\n",
    "\n",
    "isomorf('CBAABC', 'DEFFED')"
   ]
  },
  {
   "cell_type": "code",
   "execution_count": 34,
   "metadata": {},
   "outputs": [
    {
     "name": "stdout",
     "output_type": "stream",
     "text": [
      "True\n"
     ]
    }
   ],
   "source": [
    "def isomorf(cadX, cadY):\n",
    "    esIsomorf = len(cadX) == len(cadY)\n",
    "    if esIsomorf:\n",
    "        dicc_X_to_Y = {x: y for x, y in zip(cadX, cadY)}\n",
    "        dicc_Y_to_X = {y: x for x, y in zip(cadX, cadY)}\n",
    "#         print(dicc_X_to_Y)\n",
    "#         print(dicc_Y_to_X)\n",
    "        # Check if the bidirectional mappings are consistent\n",
    "#         print([dicc_X_to_Y.get(cadX[k]) == cadY[k] and dicc_Y_to_X.get(cadY[k]) == cadX[k] for k in range(len(cadX))])\n",
    "        esIsomorf = all(dicc_X_to_Y.get(cadX[k]) == cadY[k] and dicc_Y_to_X.get(cadY[k]) == cadX[k] \n",
    "                        for k in range(len(cadX)))\n",
    "\n",
    "    return esIsomorf\n",
    "\n",
    "# Test the function\n",
    "print(isomorf('CBAABC', 'DEFFED'))  # Should return True\n"
   ]
  },
  {
   "cell_type": "code",
   "execution_count": 33,
   "metadata": {
    "id": "xH5A13U0dPSf"
   },
   "outputs": [],
   "source": [
    "assert isomorf('CBAABC', 'DEFFED') == True\n",
    "assert isomorf('XXX', 'YYY') == True\n",
    "assert isomorf('RAMBUNCTIOUSLY', 'THERMODYNAMICS') == True\n",
    "assert isomorf('XXY', 'XYY') == False\n",
    "assert isomorf('ABAB', 'CD') == False\n",
    "assert isomorf('ABAC', 'BABB') == False"
   ]
  },
  {
   "cell_type": "code",
   "execution_count": null,
   "metadata": {
    "id": "53Y90JNBdPSf"
   },
   "outputs": [],
   "source": [
    "\"\"\"\n",
    "    Aquesta funció retorna totes les paraules d'una llista isomorfes a una paraula en concret.\n",
    "    \n",
    "    Parameters\n",
    "    ----------\n",
    "    llista: list\n",
    "    paraula: sting\n",
    "    \n",
    "    Returns\n",
    "    -------\n",
    "    llistaIsomorfes: list\n",
    "\"\"\"\n",
    "def tria_paraules_isomorfes(llista, paraula):\n",
    "    \n",
    "    return llistaIsomorfes"
   ]
  },
  {
   "cell_type": "code",
   "execution_count": null,
   "metadata": {
    "id": "Ppww4QmrdPSg"
   },
   "outputs": [],
   "source": [
    "assert tria_paraules_isomorfes(['gag', 'sos', 'mim', 'gat', 'gos'], 'rar') == ['gag', 'sos', 'mim']\n",
    "assert tria_paraules_isomorfes(['gag', 'sos', 'mim', 'gat', 'gos'], 'rap') == ['gat', 'gos']"
   ]
  }
 ],
 "metadata": {
  "colab": {
   "collapsed_sections": [],
   "name": "4.3.ipynb",
   "provenance": []
  },
  "kernelspec": {
   "display_name": "Python 3 (ipykernel)",
   "language": "python",
   "name": "python3"
  },
  "language_info": {
   "codemirror_mode": {
    "name": "ipython",
    "version": 3
   },
   "file_extension": ".py",
   "mimetype": "text/x-python",
   "name": "python",
   "nbconvert_exporter": "python",
   "pygments_lexer": "ipython3",
   "version": "3.11.4"
  }
 },
 "nbformat": 4,
 "nbformat_minor": 1
}
