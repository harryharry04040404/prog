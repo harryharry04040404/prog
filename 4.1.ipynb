{
 "cells": [
  {
   "cell_type": "markdown",
   "metadata": {
    "id": "uDBDG-H-Zkj7"
   },
   "source": [
    "# Capítol 4 - Algorismes i Text"
   ]
  },
  {
   "cell_type": "markdown",
   "metadata": {
    "id": "u2QFmRo_Zkj9"
   },
   "source": [
    "### 4.1 Acronims"
   ]
  },
  {
   "cell_type": "code",
   "execution_count": null,
   "metadata": {},
   "outputs": [],
   "source": [
    "    \"\"\"\n",
    "    Aquesta funció retorna l'acrònim d'una frase.\n",
    "    \n",
    "    Parameters\n",
    "    ----------\n",
    "    frase: string\n",
    "    \n",
    "    Returns\n",
    "    -------\n",
    "    acronim: string\n",
    "    \"\"\""
   ]
  },
  {
   "cell_type": "code",
   "execution_count": 25,
   "metadata": {
    "id": "U1OKgXrjZkj-",
    "scrolled": false
   },
   "outputs": [
    {
     "name": "stdout",
     "output_type": "stream",
     "text": [
      "Enter your string: hola que tal\n",
      "HQT\n"
     ]
    }
   ],
   "source": [
    "frase = input(\"Enter your string: \")\n",
    "\n",
    "words = frase.split()\n",
    "\n",
    "def acronym(words):\n",
    "    new_frase = \"\"\n",
    "    for word in words:\n",
    "        new_frase += word[0].upper()\n",
    "    return new_frase\n",
    "\n",
    "frase_to_print = acronym(words)\n",
    "print(frase_to_print)"
   ]
  },
  {
   "cell_type": "code",
   "execution_count": 27,
   "metadata": {
    "id": "IJoMRg_5Zkj_",
    "scrolled": true
   },
   "outputs": [
    {
     "ename": "TypeError",
     "evalue": "can only concatenate str (not \"builtin_function_or_method\") to str",
     "output_type": "error",
     "traceback": [
      "\u001b[1;31m---------------------------------------------------------------------------\u001b[0m",
      "\u001b[1;31mTypeError\u001b[0m                                 Traceback (most recent call last)",
      "Cell \u001b[1;32mIn[27], line 1\u001b[0m\n\u001b[1;32m----> 1\u001b[0m \u001b[38;5;28;01massert\u001b[39;00m acronim(\u001b[38;5;124m\"\u001b[39m\u001b[38;5;124mHola que tal\u001b[39m\u001b[38;5;124m\"\u001b[39m) \u001b[38;5;241m==\u001b[39m \u001b[38;5;124m'\u001b[39m\u001b[38;5;124mHQT\u001b[39m\u001b[38;5;124m'\u001b[39m\n",
      "Cell \u001b[1;32mIn[20], line 8\u001b[0m, in \u001b[0;36macronim\u001b[1;34m(words)\u001b[0m\n\u001b[0;32m      6\u001b[0m new_frase \u001b[38;5;241m=\u001b[39m \u001b[38;5;124m\"\u001b[39m\u001b[38;5;124m\"\u001b[39m\n\u001b[0;32m      7\u001b[0m \u001b[38;5;28;01mfor\u001b[39;00m word \u001b[38;5;129;01min\u001b[39;00m words:\n\u001b[1;32m----> 8\u001b[0m     new_frase \u001b[38;5;241m+\u001b[39m\u001b[38;5;241m=\u001b[39m word[\u001b[38;5;241m0\u001b[39m]\u001b[38;5;241m.\u001b[39mupper\n\u001b[0;32m      9\u001b[0m \u001b[38;5;28;01mreturn\u001b[39;00m new_frase\n",
      "\u001b[1;31mTypeError\u001b[0m: can only concatenate str (not \"builtin_function_or_method\") to str"
     ]
    }
   ],
   "source": [
    "assert acronim(\"Hola que tal\") == 'HQT'"
   ]
  },
  {
   "cell_type": "code",
   "execution_count": null,
   "metadata": {},
   "outputs": [],
   "source": []
  }
 ],
 "metadata": {
  "colab": {
   "collapsed_sections": [],
   "name": "4.1.ipynb",
   "provenance": []
  },
  "kernelspec": {
   "display_name": "Python 3 (ipykernel)",
   "language": "python",
   "name": "python3"
  },
  "language_info": {
   "codemirror_mode": {
    "name": "ipython",
    "version": 3
   },
   "file_extension": ".py",
   "mimetype": "text/x-python",
   "name": "python",
   "nbconvert_exporter": "python",
   "pygments_lexer": "ipython3",
   "version": "3.11.4"
  }
 },
 "nbformat": 4,
 "nbformat_minor": 1
}
