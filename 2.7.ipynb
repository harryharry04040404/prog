{
 "cells": [
  {
   "cell_type": "markdown",
   "metadata": {
    "id": "fCvx4YrOPNVa"
   },
   "source": [
    "# Capítol 2 - Algorismes bàsics de Python"
   ]
  },
  {
   "cell_type": "markdown",
   "metadata": {
    "id": "CwpT7yCCPNVo"
   },
   "source": [
    "### 2.7 Divisors"
   ]
  },
  {
   "cell_type": "code",
   "execution_count": null,
   "metadata": {
    "id": "msilhpuJPNVo"
   },
   "outputs": [],
   "source": [
    "\n",
    "    \"\"\"\n",
    "    Aquesta funció retorna la llista amb els seus divisors\n",
    "    \n",
    "    Parameters\n",
    "    ----------\n",
    "    num: int\n",
    "    \n",
    "    Returns\n",
    "    -------\n",
    "    divisors: list\n",
    "    \"\"\"\n",
    "    l"
   ]
  },
  {
   "cell_type": "code",
   "execution_count": 28,
   "metadata": {},
   "outputs": [
    {
     "name": "stdout",
     "output_type": "stream",
     "text": [
      "1\n",
      "2\n",
      "4\n",
      "8\n"
     ]
    },
    {
     "data": {
      "text/plain": [
       "True"
      ]
     },
     "execution_count": 28,
     "metadata": {},
     "output_type": "execute_result"
    }
   ],
   "source": [
    "def divisors(num):\n",
    "    llista_divisors = []\n",
    "    for i in range(num+1):\n",
    "        if i > 0:\n",
    "            if (num % i == 0):\n",
    "                print(i)\n",
    "                llista_divisors.append(i)\n",
    "    return llista_divisors  "
   ]
  },
  {
   "cell_type": "code",
   "execution_count": 29,
   "metadata": {
    "id": "E7ZBqLXvPNVo",
    "scrolled": false
   },
   "outputs": [
    {
     "name": "stdout",
     "output_type": "stream",
     "text": [
      "1\n",
      "2\n",
      "4\n",
      "8\n",
      "1\n",
      "5\n",
      "1\n",
      "2\n",
      "3\n",
      "5\n",
      "6\n",
      "7\n",
      "10\n",
      "14\n",
      "15\n",
      "21\n",
      "30\n",
      "35\n",
      "42\n",
      "70\n",
      "105\n",
      "210\n"
     ]
    }
   ],
   "source": [
    "assert divisors(8) == [1,2,4,8]\n",
    "assert divisors(5) == [1,5]\n",
    "assert divisors(210) == [1, 2, 3, 5, 6, 7, 10, 14, 15, 21, 30, 35, 42, 70, 105, 210]"
   ]
  }
 ],
 "metadata": {
  "colab": {
   "collapsed_sections": [],
   "name": "2.7.ipynb",
   "provenance": []
  },
  "kernelspec": {
   "display_name": "Python 3 (ipykernel)",
   "language": "python",
   "name": "python3"
  },
  "language_info": {
   "codemirror_mode": {
    "name": "ipython",
    "version": 3
   },
   "file_extension": ".py",
   "mimetype": "text/x-python",
   "name": "python",
   "nbconvert_exporter": "python",
   "pygments_lexer": "ipython3",
   "version": "3.11.4"
  }
 },
 "nbformat": 4,
 "nbformat_minor": 1
}
