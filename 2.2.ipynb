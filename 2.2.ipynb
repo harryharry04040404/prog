{
 "cells": [
  {
   "cell_type": "markdown",
   "metadata": {
    "id": "IzfymRrjSXNF"
   },
   "source": [
    "# Capítol 2 - Algorismes bàsics de Python"
   ]
  },
  {
   "cell_type": "markdown",
   "metadata": {
    "id": "AYQvgYJLSXNM"
   },
   "source": [
    "### 2.2 Inversió econòmica"
   ]
  },
  {
   "cell_type": "code",
   "execution_count": 1,
   "metadata": {
    "id": "RA7R0kbpSXNM"
   },
   "outputs": [],
   "source": [
    "def futval(inversio, interes):\n",
    "    principal = inversio\n",
    "    for i in range(10):\n",
    "        principal = principal * (1 + interes)\n",
    "    return principal"
   ]
  },
  {
   "cell_type": "code",
   "execution_count": null,
   "metadata": {
    "id": "bqlYPTghSXNM"
   },
   "outputs": [],
   "source": [
    "def futval2(inicial, anys, interesPerCent, comissioPerCent):\n",
    "    \"\"\"\n",
    "    Aquest programa calcula el valor d'una inversió \n",
    "    \n",
    "    Parameters\n",
    "    ----------\n",
    "    inicial: float\n",
    "        Inversio inicial\n",
    "    anys: int\n",
    "        Nombre d'anys\n",
    "    interesPerCent: float\n",
    "        Interes anual en decimal\n",
    "    comissioPerCent: float\n",
    "        Comissio del banc\n",
    "        \n",
    "    Returns\n",
    "    -------\n",
    "    diners: float\n",
    "    \"\"\"\n",
    "\n",
    "    return diners"
   ]
  },
  {
   "cell_type": "code",
   "execution_count": 81,
   "metadata": {
    "scrolled": true
   },
   "outputs": [
    {
     "name": "stdout",
     "output_type": "stream",
     "text": [
      "200\n",
      "952.0 0\n",
      "952.0\n",
      "4531.52 1\n",
      "4531.52\n",
      "21570.035200000002 2\n",
      "21570.035200000002\n",
      "102673.367552 3\n",
      "102673.367552\n",
      "488725.22954752 4\n",
      "488725.22954752\n",
      "2326332.092646195 5\n",
      "2326332.092646195\n",
      "11073340.760995887 6\n",
      "11073340.760995887\n",
      "52709102.02234042 7\n",
      "52709102.02234042\n",
      "250895325.6263404 8\n",
      "250895325.6263404\n",
      "1194261749.9813802 9\n"
     ]
    },
    {
     "data": {
      "text/plain": [
       "False"
      ]
     },
     "execution_count": 81,
     "metadata": {},
     "output_type": "execute_result"
    }
   ],
   "source": [
    "def futval2(inicial, anys, interesPerCent, comissioPerCent):\n",
    "    adds = 0\n",
    "    subs = 0\n",
    "    for i in range(anys):\n",
    "        print(inicial)\n",
    "        inicial += inicial + (inicial *  interesPerCent)\n",
    "        inicial += inicial - (inicial * comissioPerCent)\n",
    "        print(inicial, i)\n",
    "    diners = inicial\n",
    "    return diners\n",
    "\n",
    "abs(futval2(200,10,0.8,0.3) - 49986.54) < 0.1"
   ]
  },
  {
   "cell_type": "code",
   "execution_count": 76,
   "metadata": {
    "id": "QEyt2X-hSXNM",
    "scrolled": false
   },
   "outputs": [
    {
     "name": "stdout",
     "output_type": "stream",
     "text": [
      "200\n",
      "468.0 0\n",
      "468.0\n",
      "1095.1200000000001 1\n",
      "1095.1200000000001\n",
      "2562.5808000000006 2\n",
      "2562.5808000000006\n",
      "5996.439072000001 3\n",
      "5996.439072000001\n",
      "14031.667428480005 4\n",
      "14031.667428480005\n",
      "32834.10178264321 5\n",
      "32834.10178264321\n",
      "76831.7981713851 6\n",
      "76831.7981713851\n",
      "179786.40772104118 7\n",
      "179786.40772104118\n",
      "420700.1940672364 8\n",
      "420700.1940672364\n",
      "984438.4541173332 9\n"
     ]
    },
    {
     "ename": "AssertionError",
     "evalue": "",
     "output_type": "error",
     "traceback": [
      "\u001b[1;31m---------------------------------------------------------------------------\u001b[0m",
      "\u001b[1;31mAssertionError\u001b[0m                            Traceback (most recent call last)",
      "Cell \u001b[1;32mIn[76], line 1\u001b[0m\n\u001b[1;32m----> 1\u001b[0m \u001b[38;5;28;01massert\u001b[39;00m \u001b[38;5;28mabs\u001b[39m(futval2(\u001b[38;5;241m200\u001b[39m,\u001b[38;5;241m10\u001b[39m,\u001b[38;5;241m0.8\u001b[39m,\u001b[38;5;241m0.3\u001b[39m) \u001b[38;5;241m-\u001b[39m \u001b[38;5;241m49986.54\u001b[39m) \u001b[38;5;241m<\u001b[39m \u001b[38;5;241m0.1\u001b[39m\n\u001b[0;32m      2\u001b[0m \u001b[38;5;28;01massert\u001b[39;00m \u001b[38;5;28mabs\u001b[39m(futval2(\u001b[38;5;241m100\u001b[39m,\u001b[38;5;241m20\u001b[39m,\u001b[38;5;241m0.8\u001b[39m,\u001b[38;5;241m0.3\u001b[39m) \u001b[38;5;241m-\u001b[39m \u001b[38;5;241m8923765.35\u001b[39m) \u001b[38;5;241m<\u001b[39m \u001b[38;5;241m0.1\u001b[39m\n\u001b[0;32m      3\u001b[0m \u001b[38;5;28;01massert\u001b[39;00m \u001b[38;5;28mabs\u001b[39m(futval2(\u001b[38;5;241m100\u001b[39m,\u001b[38;5;241m10\u001b[39m,\u001b[38;5;241m0.6\u001b[39m,\u001b[38;5;241m0.3\u001b[39m) \u001b[38;5;241m-\u001b[39m  \u001b[38;5;241m7696.58\u001b[39m) \u001b[38;5;241m<\u001b[39m \u001b[38;5;241m0.1\u001b[39m\n",
      "\u001b[1;31mAssertionError\u001b[0m: "
     ]
    }
   ],
   "source": [
    "assert abs(futval2(200,10,0.8,0.3) - 49986.54) < 0.1\n",
    "assert abs(futval2(100,20,0.8,0.3) - 8923765.35) < 0.1\n",
    "assert abs(futval2(100,10,0.6,0.3) -  7696.58) < 0.1\n",
    "assert abs(futval2(100,10,0.8,0.5) - 17852.33) < 0.1"
   ]
  }
 ],
 "metadata": {
  "colab": {
   "collapsed_sections": [],
   "name": "2.2.ipynb",
   "provenance": []
  },
  "kernelspec": {
   "display_name": "Python 3 (ipykernel)",
   "language": "python",
   "name": "python3"
  },
  "language_info": {
   "codemirror_mode": {
    "name": "ipython",
    "version": 3
   },
   "file_extension": ".py",
   "mimetype": "text/x-python",
   "name": "python",
   "nbconvert_exporter": "python",
   "pygments_lexer": "ipython3",
   "version": "3.11.4"
  }
 },
 "nbformat": 4,
 "nbformat_minor": 1
}
