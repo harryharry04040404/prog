{
 "cells": [
  {
   "cell_type": "markdown",
   "metadata": {
    "id": "lLECUb6bKWu9"
   },
   "source": [
    "# Capítol 2 - Algorismes bàsics de Python"
   ]
  },
  {
   "cell_type": "markdown",
   "metadata": {
    "id": "_Tqj6So3KWvP"
   },
   "source": [
    "### 2.13  Nombres perfectes"
   ]
  },
  {
   "cell_type": "code",
   "execution_count": 10,
   "metadata": {
    "id": "40i6rrC6KWvP"
   },
   "outputs": [
    {
     "data": {
      "text/plain": [
       "\"\\nAquesta funció comprova si un nombre es perfecte.\\n\\nParameters\\n----------\\nnum: int\\n    El número que es vol comprovar\\n\\nReturns\\n-------\\nb: bool\\n    Si el nombre d'entrada és un nombre perfecte\\n\\n\""
      ]
     },
     "execution_count": 10,
     "metadata": {},
     "output_type": "execute_result"
    }
   ],
   "source": [
    "    \"\"\"\n",
    "    Aquesta funció comprova si un nombre es perfecte.\n",
    "    \n",
    "    Parameters\n",
    "    ----------\n",
    "    num: int\n",
    "        El número que es vol comprovar\n",
    "    \n",
    "    Returns\n",
    "    -------\n",
    "    b: bool\n",
    "        Si el nombre d'entrada és un nombre perfecte\n",
    "    \n",
    "    \"\"\""
   ]
  },
  {
   "cell_type": "code",
   "execution_count": 11,
   "metadata": {},
   "outputs": [],
   "source": [
    "def divisors(num):\n",
    "    divisors = 0\n",
    "    for i in range(num):\n",
    "        if i > 0:\n",
    "            if (num % i == 0):\n",
    "                divisors += i\n",
    "    return divisors"
   ]
  },
  {
   "cell_type": "code",
   "execution_count": 12,
   "metadata": {},
   "outputs": [],
   "source": [
    "def perfecte(num):\n",
    "    b = False\n",
    "    divisorsNum = divisors(num)\n",
    "    if divisorsNum == num:\n",
    "        b = True\n",
    "    return b"
   ]
  },
  {
   "cell_type": "code",
   "execution_count": 13,
   "metadata": {
    "id": "uBdBeEN-KWvP"
   },
   "outputs": [],
   "source": [
    "assert perfecte(28) == True\n",
    "assert perfecte(6) == True\n",
    "assert perfecte(8) == False"
   ]
  }
 ],
 "metadata": {
  "colab": {
   "collapsed_sections": [],
   "name": "2.13.ipynb",
   "provenance": []
  },
  "kernelspec": {
   "display_name": "Python 3 (ipykernel)",
   "language": "python",
   "name": "python3"
  },
  "language_info": {
   "codemirror_mode": {
    "name": "ipython",
    "version": 3
   },
   "file_extension": ".py",
   "mimetype": "text/x-python",
   "name": "python",
   "nbconvert_exporter": "python",
   "pygments_lexer": "ipython3",
   "version": "3.11.4"
  }
 },
 "nbformat": 4,
 "nbformat_minor": 1
}
