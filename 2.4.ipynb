{
 "cells": [
  {
   "cell_type": "markdown",
   "metadata": {
    "id": "pTlPeNMoQkJr"
   },
   "source": [
    "# Capítol 2 - Algorismes bàsics de Python"
   ]
  },
  {
   "cell_type": "markdown",
   "metadata": {
    "id": "KMfzdb0eQkJ1"
   },
   "source": [
    "### 2.4 Pendent Recta"
   ]
  },
  {
   "cell_type": "code",
   "execution_count": null,
   "metadata": {
    "id": "8xgarYoRQkJ1"
   },
   "outputs": [],
   "source": [
    "    \"\"\"\n",
    "    Aquest programa calcula la pendent d'una recta donats dos punts\n",
    "    \n",
    "    Parameters\n",
    "    ----------\n",
    "    x1, y1: float, float\n",
    "        Primer punt\n",
    "    x2, y2: float, float\n",
    "        Segon punt\n",
    "    \n",
    "    Returns\n",
    "    -------\n",
    "    m: float\n",
    "        Pendent\n",
    "    \"\"\""
   ]
  },
  {
   "cell_type": "code",
   "execution_count": 40,
   "metadata": {},
   "outputs": [],
   "source": [
    "def pendent(x1,y1,x2,y2):\n",
    "    if x2-x1==0:\n",
    "        m = float('inf')\n",
    "    else:\n",
    "        m = (y2-y1)/(x2-x1)\n",
    "    return m"
   ]
  },
  {
   "cell_type": "code",
   "execution_count": 41,
   "metadata": {
    "id": "_V_8Y5UuQkJ1",
    "outputId": "08ba9833-1233-4f89-ce47-6fa0e14dc671"
   },
   "outputs": [],
   "source": [
    "assert pendent(1,1,4,4) == 1\n",
    "assert pendent(4,5,2,9) == -2\n",
    "assert pendent(1,0,4,0) == 0.\n",
    "assert pendent(0,5,0,9) == float('inf')"
   ]
  },
  {
   "cell_type": "code",
   "execution_count": 42,
   "metadata": {
    "id": "xPfsgpwaQkJ2"
   },
   "outputs": [
    {
     "data": {
      "text/plain": [
       "\"\\nAquest programa calcula l'equació de la recta que pasa per dos punts.\\n\\nParameters\\n----------\\nx1, y1: float, float\\n    Primer punt\\nx2, y2: float, float\\n    Segon punt\\n\\nReturns\\n-------\\nequacio: string\\n    Equació de la recta\\n\""
      ]
     },
     "execution_count": 42,
     "metadata": {},
     "output_type": "execute_result"
    }
   ],
   "source": [
    "    \"\"\"\n",
    "    Aquest programa calcula l'equació de la recta que pasa per dos punts.\n",
    "    \n",
    "    Parameters\n",
    "    ----------\n",
    "    x1, y1: float, float\n",
    "        Primer punt\n",
    "    x2, y2: float, float\n",
    "        Segon punt\n",
    "    \n",
    "    Returns\n",
    "    -------\n",
    "    equacio: string\n",
    "        Equació de la recta\n",
    "    \"\"\""
   ]
  },
  {
   "cell_type": "code",
   "execution_count": 45,
   "metadata": {},
   "outputs": [],
   "source": [
    "def equacio(x1,y1, x2,y2):\n",
    "    m = pendent(x1,y1,x2,y2)\n",
    "    n = y1 - (x1*m)\n",
    "    return 'y = {} * x + {}'.format(m, n)"
   ]
  },
  {
   "cell_type": "code",
   "execution_count": 46,
   "metadata": {
    "id": "bW9Q8g0rQkJ2",
    "scrolled": true
   },
   "outputs": [],
   "source": [
    "assert equacio(1,1,4,4) == 'y = 1.0 * x + 0.0'\n",
    "assert equacio(4,5,2,9) == 'y = -2.0 * x + 13.0'\n",
    "assert equacio(-1,-3,3,5) == 'y = 2.0 * x + -1.0'"
   ]
  }
 ],
 "metadata": {
  "colab": {
   "collapsed_sections": [],
   "name": "2.4.ipynb",
   "provenance": []
  },
  "kernelspec": {
   "display_name": "Python 3 (ipykernel)",
   "language": "python",
   "name": "python3"
  },
  "language_info": {
   "codemirror_mode": {
    "name": "ipython",
    "version": 3
   },
   "file_extension": ".py",
   "mimetype": "text/x-python",
   "name": "python",
   "nbconvert_exporter": "python",
   "pygments_lexer": "ipython3",
   "version": "3.11.4"
  }
 },
 "nbformat": 4,
 "nbformat_minor": 1
}
