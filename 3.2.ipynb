{
 "cells": [
  {
   "cell_type": "markdown",
   "metadata": {
    "id": "KB3KAlcFUTai"
   },
   "source": [
    "# Capítol 3 - Algorismes i Nombres"
   ]
  },
  {
   "cell_type": "markdown",
   "metadata": {
    "id": "aSN4GzA2UTam"
   },
   "source": [
    "### 3.2 El Màxim Comú Divisor i les seves aplicacions"
   ]
  },
  {
   "cell_type": "code",
   "execution_count": null,
   "metadata": {
    "id": "eU2pBV6yUTam"
   },
   "outputs": [],
   "source": [
    "    \"\"\"\n",
    "    Funció que retorna l'expressio irreductible d'una fracció\n",
    "    \n",
    "    Parameters\n",
    "    ----------\n",
    "    numerador: int\n",
    "    denominador: int\n",
    "    \n",
    "    Returns\n",
    "    -------\n",
    "    numReduit: int\n",
    "    denReduit: int\n",
    "    \"\"\""
   ]
  },
  {
   "cell_type": "code",
   "execution_count": null,
   "metadata": {},
   "outputs": [],
   "source": [
    "def reduir_fraccio(numerador, denominador):\n",
    "    mcd: int = 0\n",
    "    numReduit = 0\n",
    "    denReduit = 0\n",
    "    if numerador - denominador > denominador-numerador:\n",
    "        mcd = denominador\n",
    "    else:\n",
    "        mcd = numerador\n",
    "    \n",
    "    while mcd != 0:\n",
    "        if (numerador and denominador)%mcd == 0:\n",
    "            numReduit = numerador/mcd\n",
    "            denReduit = denominador/mcd\n",
    "            mcd = 0\n",
    "        else:\n",
    "            mcd -= 1\n",
    "    print(mcd)\n",
    "    return (numReduit,denReduit)"
   ]
  },
  {
   "cell_type": "code",
   "execution_count": null,
   "metadata": {
    "id": "9J9Oq82_UTan",
    "scrolled": true
   },
   "outputs": [],
   "source": [
    "assert reduir_fraccio(12, 8) == (3,2)"
   ]
  }
 ],
 "metadata": {
  "colab": {
   "collapsed_sections": [],
   "name": "3.2.ipynb",
   "provenance": []
  },
  "kernelspec": {
   "display_name": "Python 3 (ipykernel)",
   "language": "python",
   "name": "python3"
  },
  "language_info": {
   "codemirror_mode": {
    "name": "ipython",
    "version": 3
   },
   "file_extension": ".py",
   "mimetype": "text/x-python",
   "name": "python",
   "nbconvert_exporter": "python",
   "pygments_lexer": "ipython3",
   "version": "3.11.4"
  }
 },
 "nbformat": 4,
 "nbformat_minor": 1
}
