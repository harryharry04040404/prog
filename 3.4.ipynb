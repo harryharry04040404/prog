{
 "cells": [
  {
   "cell_type": "markdown",
   "metadata": {
    "id": "KB3KAlcFUTai"
   },
   "source": [
    "# Capítol 3 - Algorismes i Nombres"
   ]
  },
  {
   "cell_type": "markdown",
   "metadata": {
    "id": "eG_2s_hqUTat"
   },
   "source": [
    "### 3.4 Resta Binària"
   ]
  },
  {
   "cell_type": "code",
   "execution_count": null,
   "metadata": {
    "id": "8tK2xjdTUTat"
   },
   "outputs": [],
   "source": [
    "    \"\"\"\n",
    "    Aquesta funció calcula la resta binaria donat dos nombres.\n",
    "    \n",
    "    parameters\n",
    "    ----------\n",
    "    op1: llista d'enters\n",
    "    op2: llista d'enters\n",
    "    \n",
    "    Returns\n",
    "    -------\n",
    "    resultat: llista d'enters\n",
    "    \"\"\"\n",
    "  "
   ]
  },
  {
   "cell_type": "code",
   "execution_count": 15,
   "metadata": {},
   "outputs": [
    {
     "name": "stdout",
     "output_type": "stream",
     "text": [
      "[0, 0, 0, 0]\n"
     ]
    },
    {
     "data": {
      "text/plain": [
       "[0, 0, 0, 0]"
      ]
     },
     "execution_count": 15,
     "metadata": {},
     "output_type": "execute_result"
    }
   ],
   "source": [
    "def resta_binaria(op1, op2):    \n",
    "    result = [] \n",
    "    lghtList1 = len(op1)\n",
    "    lghtList2 = len(op2)\n",
    "    lghtList3 = 0\n",
    "    substractionBynary  = 0\n",
    "    neg = False\n",
    "    \n",
    "    if lghtList1 >=  lghtList2:\n",
    "        lghtList3 = lghtList2\n",
    "    else:\n",
    "        lghtList3 = lghtList1\n",
    "    \n",
    "    for i in range(lghtList3):\n",
    "        if (op1[0] > op2[0]):\n",
    "            substractionBynary = op1[i] - op2[i]\n",
    "        elif (op1[0] < op2[0]):\n",
    "            substractionBynary = op2<[i] - op1[i]\n",
    "        else:\n",
    "            \n",
    "        if neg:\n",
    "            substractionBynary -= 1\n",
    "            neg = False\n",
    "            \n",
    "        if substractionBynary < 0:\n",
    "            result.append(1)\n",
    "            neg = True\n",
    "        else:\n",
    "            result.append(0)\n",
    "    print(result [::-1])\n",
    "    return result[::-1]\n",
    "resta_binaria([0,1,0,1], [0,0,0,1]) "
   ]
  },
  {
   "cell_type": "code",
   "execution_count": null,
   "metadata": {},
   "outputs": [],
   "source": [
    "  def sumaBinaria(num1, num2):\n",
    "        result = [] \n",
    "        return result\n",
    " "
   ]
  },
  {
   "cell_type": "code",
   "execution_count": 10,
   "metadata": {
    "id": "Gw4o58AbUTat",
    "scrolled": true
   },
   "outputs": [
    {
     "ename": "AssertionError",
     "evalue": "",
     "output_type": "error",
     "traceback": [
      "\u001b[1;31m---------------------------------------------------------------------------\u001b[0m",
      "\u001b[1;31mAssertionError\u001b[0m                            Traceback (most recent call last)",
      "Cell \u001b[1;32mIn[10], line 1\u001b[0m\n\u001b[1;32m----> 1\u001b[0m \u001b[38;5;28;01massert\u001b[39;00m resta_binaria([\u001b[38;5;241m0\u001b[39m,\u001b[38;5;241m1\u001b[39m,\u001b[38;5;241m0\u001b[39m,\u001b[38;5;241m1\u001b[39m], [\u001b[38;5;241m0\u001b[39m,\u001b[38;5;241m0\u001b[39m,\u001b[38;5;241m0\u001b[39m,\u001b[38;5;241m1\u001b[39m]) \u001b[38;5;241m==\u001b[39m [\u001b[38;5;241m0\u001b[39m,\u001b[38;5;241m1\u001b[39m,\u001b[38;5;241m0\u001b[39m,\u001b[38;5;241m0\u001b[39m]\n",
      "\u001b[1;31mAssertionError\u001b[0m: "
     ]
    }
   ],
   "source": [
    "assert resta_binaria([0,1,0,1], [0,0,0,1]) == [0,1,0,0]"
   ]
  }
 ],
 "metadata": {
  "colab": {
   "collapsed_sections": [],
   "name": "3.4.ipynb",
   "provenance": []
  },
  "kernelspec": {
   "display_name": "Python 3 (ipykernel)",
   "language": "python",
   "name": "python3"
  },
  "language_info": {
   "codemirror_mode": {
    "name": "ipython",
    "version": 3
   },
   "file_extension": ".py",
   "mimetype": "text/x-python",
   "name": "python",
   "nbconvert_exporter": "python",
   "pygments_lexer": "ipython3",
   "version": "3.11.4"
  }
 },
 "nbformat": 4,
 "nbformat_minor": 1
}
