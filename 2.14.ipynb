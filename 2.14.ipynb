{
 "cells": [
  {
   "cell_type": "markdown",
   "metadata": {
    "id": "sRIAUJnxEjHM"
   },
   "source": [
    "# Capítol 2 - Algorismes bàsics de Python"
   ]
  },
  {
   "cell_type": "markdown",
   "metadata": {
    "id": "uiu88hZZEjHd"
   },
   "source": [
    "### 2.14 Nombres apocalíptics"
   ]
  },
  {
   "cell_type": "code",
   "execution_count": null,
   "metadata": {
    "id": "cbXiHGxbEjHd"
   },
   "outputs": [],
   "source": [
    "    \"\"\"\n",
    "    Aquesta funció comprova si un nombre és apocalíptic.\n",
    "    \n",
    "    Parameters\n",
    "    ----------\n",
    "    num: int\n",
    "        El número\n",
    "    \n",
    "    Returns\n",
    "    -------\n",
    "    b: bool\n",
    "        Si el número és apocalíptic    \n",
    "    \"\"\""
   ]
  },
  {
   "cell_type": "code",
   "execution_count": null,
   "metadata": {},
   "outputs": [],
   "source": [
    "def split_digits(number):\n",
    "    if number < 10:\n",
    "        return [number]\n",
    "    else:\n",
    "        return split_digits(number // 10) + [number % 10]"
   ]
  },
  {
   "cell_type": "code",
   "execution_count": 2,
   "metadata": {},
   "outputs": [],
   "source": [
    "def apocaliptic(num):\n",
    "    apocNum = 2**num\n",
    "    return \"666\" in str(apocNum)"
   ]
  },
  {
   "cell_type": "code",
   "execution_count": null,
   "metadata": {},
   "outputs": [],
   "source": [
    "    \"\"\"\n",
    "    Aquesta funció calcula tots els nombres apocalíptics dintre d'un rang.\n",
    "    \n",
    "    Parameters\n",
    "    ----------\n",
    "    minim: int\n",
    "        Cota inferior\n",
    "    maxim: int\n",
    "        Cota superior\n",
    "    \n",
    "    Returns\n",
    "    -------\n",
    "    llista: list\n",
    "        Llista amb tots els nombres apocalíptics dintre del rang\n",
    "    \"\"\""
   ]
  },
  {
   "cell_type": "code",
   "execution_count": 4,
   "metadata": {},
   "outputs": [],
   "source": [
    "def llista_apocaliptics(minim, maxim):\n",
    "    llista = []\n",
    "    num = minim\n",
    "    while num <= maxim:\n",
    "        if  apocaliptic(num):\n",
    "            llista.append(num)\n",
    "        num += 1\n",
    "    return llista "
   ]
  },
  {
   "cell_type": "code",
   "execution_count": 5,
   "metadata": {
    "id": "tLm_osh_EjHd"
   },
   "outputs": [],
   "source": [
    "assert apocaliptic(157) == True\n",
    "assert llista_apocaliptics(100, 300) == [157, 192, 218, 220,222, 224, 226, 243,245, 247, 251, 278,285, 286, 287]\n",
    "assert len(llista_apocaliptics(0, 5000)) ==  2253"
   ]
  }
 ],
 "metadata": {
  "colab": {
   "collapsed_sections": [],
   "name": "2.14.ipynb",
   "provenance": []
  },
  "kernelspec": {
   "display_name": "Python 3 (ipykernel)",
   "language": "python",
   "name": "python3"
  },
  "language_info": {
   "codemirror_mode": {
    "name": "ipython",
    "version": 3
   },
   "file_extension": ".py",
   "mimetype": "text/x-python",
   "name": "python",
   "nbconvert_exporter": "python",
   "pygments_lexer": "ipython3",
   "version": "3.11.4"
  }
 },
 "nbformat": 4,
 "nbformat_minor": 1
}
