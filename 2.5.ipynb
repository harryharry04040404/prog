{
 "cells": [
  {
   "cell_type": "markdown",
   "metadata": {
    "id": "3bYGguNLQHkx"
   },
   "source": [
    "# Capítol 2 - Algorismes bàsics de Python"
   ]
  },
  {
   "cell_type": "markdown",
   "metadata": {
    "id": "qNc1ZW6YQHk9"
   },
   "source": [
    "### 2.5 Capicua"
   ]
  },
  {
   "cell_type": "code",
   "execution_count": null,
   "metadata": {},
   "outputs": [],
   "source": [
    " \"\"\"\n",
    "    Aquesta funció determina si una paraula és capicua.\n",
    "    \n",
    "    Parameters\n",
    "    ----------\n",
    "    paraula: string\n",
    "        La paraula a determinar\n",
    "    \n",
    "    Returns\n",
    "    -------\n",
    "    b: bool\n",
    "        true si la paraula és capicua, false altrament\n",
    "    \"\"\"    \n",
    "    "
   ]
  },
  {
   "cell_type": "code",
   "execution_count": 1,
   "metadata": {
    "id": "OE1WxdHRQHk9"
   },
   "outputs": [],
   "source": [
    "def es_capicua(paraula):\n",
    "    if paraula == paraula[::-1]:\n",
    "        b = True\n",
    "    else:\n",
    "        b = False\n",
    "    return b"
   ]
  },
  {
   "cell_type": "code",
   "execution_count": 2,
   "metadata": {
    "id": "7rAEYXY4QHk9"
   },
   "outputs": [],
   "source": [
    "assert es_capicua(\"llull\") == True\n",
    "assert es_capicua(\"llullu\") == False"
   ]
  },
  {
   "cell_type": "code",
   "execution_count": null,
   "metadata": {
    "id": "T6sulrcOQHk-"
   },
   "outputs": [],
   "source": [
    "\n",
    "    \"\"\"\n",
    "    Aquesta funció determina si una paraula és capicua aplicant rotacions.\n",
    "    \n",
    "    Parameters\n",
    "    ----------\n",
    "    paraula: string\n",
    "        La paraula a determinar\n",
    "    \n",
    "    Returns\n",
    "    -------\n",
    "    b: bool\n",
    "        true si la paraula és capicua, false altrament\n",
    "    \"\"\"   \n",
    "    \n",
    "    \n"
   ]
  },
  {
   "cell_type": "code",
   "execution_count": 10,
   "metadata": {},
   "outputs": [],
   "source": [
    "def es_capicua_rotacions(paraula): \n",
    "    paraula2 = \"\"\n",
    "    b = False\n",
    "    for i in range(len(paraula)):\n",
    "        paraula2 = paraula[i:] + paraula[:i]\n",
    "        if paraula == paraula2:\n",
    "            b = True\n",
    "    return b"
   ]
  },
  {
   "cell_type": "code",
   "execution_count": 12,
   "metadata": {
    "id": "fEp8tMiVQHk-",
    "outputId": "157f9908-d70b-4419-e028-84fc12e0a43c"
   },
   "outputs": [],
   "source": [
    "assert es_capicua_rotacions(\"BAABCC\") == True"
   ]
  }
 ],
 "metadata": {
  "colab": {
   "collapsed_sections": [],
   "name": "2.5.ipynb",
   "provenance": []
  },
  "kernelspec": {
   "display_name": "Python 3 (ipykernel)",
   "language": "python",
   "name": "python3"
  },
  "language_info": {
   "codemirror_mode": {
    "name": "ipython",
    "version": 3
   },
   "file_extension": ".py",
   "mimetype": "text/x-python",
   "name": "python",
   "nbconvert_exporter": "python",
   "pygments_lexer": "ipython3",
   "version": "3.11.4"
  }
 },
 "nbformat": 4,
 "nbformat_minor": 1
}
