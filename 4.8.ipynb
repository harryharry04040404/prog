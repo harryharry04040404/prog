{
 "cells": [
  {
   "cell_type": "markdown",
   "metadata": {
    "id": "Wwhw_mq0ZtJB"
   },
   "source": [
    "# Capítol 4 - Algorismes i Text"
   ]
  },
  {
   "cell_type": "markdown",
   "metadata": {
    "id": "pudlg3K5ZtJP"
   },
   "source": [
    "### 4.8 Subseqüència en comú més llarga"
   ]
  },
  {
   "cell_type": "markdown",
   "metadata": {},
   "source": [
    "Escriu una funció **basada en la força bruta** tal que, donades dues cadenes de caràcters, identifiqui la longitud de la subseqüència compartida més llarga.\n",
    "\n",
    "En aquest problema definim una subseqüència com una seqüència de caràcters en el mateix ordre que a la cadena original però **no necessàriament consecutiva**. Per exemle, de la paraula ACBA, podem treure'n les subseqüències AC, AB, AA, ACB, ACA, ABA, ACBA, CB, CA, CBA, BA, A, C, B, i de la paraula BRA podem treure'n les subseqüències B, R, A, BR, BA, RA, BRA, i la subseqüència comuna més llarga entre les dues seria BA, amb 2 caràcters.\n",
    "\n",
    "Pots fer servir alguna funció del mòdul \"itertools\"."
   ]
  },
  {
   "cell_type": "code",
   "execution_count": 9,
   "metadata": {
    "id": "ngKWIkPKZtJP"
   },
   "outputs": [],
   "source": [
    "import itertools \n",
    "\n",
    "def subsequencia_comu_v1(paraula1, paraula2):\n",
    "    \"\"\"\n",
    "    Aquesta funció identifica la longitud de la subseqüència mes llarga mitjançanat força bruta.\n",
    "    \n",
    "    Parameters\n",
    "    ----------\n",
    "    paraula1: string\n",
    "    paraula2: string\n",
    "    \n",
    "    Returns\n",
    "    -------\n",
    "    numCaractersComuns: int\n",
    "    \"\"\"\n",
    "    \n",
    "    \"def extreure_sub_sequencies(paraula):\"\n",
    "  "
   ]
  },
  {
   "cell_type": "code",
   "execution_count": null,
   "metadata": {},
   "outputs": [],
   "source": [
    "# demostració itertools\n",
    "# https://docs.python.org/3/library/itertools.html\n",
    "import itertools\n",
    "paraula=\"STUTVST\"\n",
    "llista=list(itertools.combinations(paraula, 3))\n",
    "print(llista)"
   ]
  },
  {
   "cell_type": "code",
   "execution_count": null,
   "metadata": {},
   "outputs": [],
   "source": [
    "# demostració intersection\n",
    "c1={1,2,3,4}\n",
    "c2={7,4,1,5}\n",
    "intersect = c1.intersection(c2)\n",
    "print(intersect)"
   ]
  },
  {
   "cell_type": "code",
   "execution_count": null,
   "metadata": {
    "id": "kWKm3RJ_ZtJP"
   },
   "outputs": [],
   "source": [
    "assert subsequencia_comu_v1('STUTVST', 'TVUSTS') == 4"
   ]
  },
  {
   "cell_type": "markdown",
   "metadata": {},
   "source": [
    "Si ens fixem en el codi, veurem que sovint es repeteixen càlculs. El que podem fer és usar un diccionari que vagi guardant les solucions parcials ja calculades i, cada cop que n'hagim de calcular una, mirar el diccionari per veure si ja s'ha calculat.\n",
    "\n",
    "En el moment de calcular una solució parcial, si ja hi és, mirem el resultat en comptes de calcular-la de nou; altrament, la calculem i l'emmagatzemem al diccionari."
   ]
  },
  {
   "cell_type": "code",
   "execution_count": null,
   "metadata": {
    "id": "T57xh64vZtJP"
   },
   "outputs": [],
   "source": [
    "def subsequencia_comu_v2(paraula1, paraula2):\n",
    "    # el teu codi\n",
    "    \n",
    "    return numCaractersComuns"
   ]
  },
  {
   "cell_type": "markdown",
   "metadata": {},
   "source": [
    "També podem construir la solució usant una taula que vagi guardant els valors de la subseqüència més llarga. \n",
    "\n",
    "Per exemple, per a les paraules SUBCADENA i ABECEDARI, la taula seria la següent:\n",
    "\n",
    "|       |   |   | 0 | 1 | 2 | 3 | 4 | 5 | 6 | 7 | 8 |\n",
    "|-------|---|---|---|---|---|---|---|---|---|---|---|\n",
    "|       |   |   | S | U | B | C | A | D | E | N | A |\n",
    "|       |   | 0 | 0 | 0 | 0 | 0 | 0 | 0 | 0 | 0 | 0 |\n",
    "| **0** | A | 0 | 0 | 0 | 0 | 0 | 1 | 1 | 1 | 1 | 1 |\n",
    "| **1** | B | 0 | 0 | 0 | 1 | 1 | 1 | 1 | 1 | 1 | 1 |\n",
    "| **2** | E | 0 | 0 | 0 | 1 | 1 | 1 | 1 | 2 | 2 | 2 |\n",
    "| **3** | C | 0 | 0 | 0 | 1 | 2 | 2 | 2 | 2 | 2 | 2 |\n",
    "| **4** | E | 0 | 0 | 0 | 1 | 2 | 2 | 2 | 3 | 3 | 3 |\n",
    "| **5** | D | 0 | 0 | 0 | 1 | 2 | 2 | 3 | 3 | 3 | 3 |\n",
    "| **6** | A | 0 | 0 | 0 | 1 | 2 | 3 | 3 | 3 | 3 | 4 |\n",
    "| **7** | R | 0 | 0 | 0 | 1 | 2 | 3 | 3 | 3 | 3 | 4 |\n",
    "| **8** | I | 0 | 0 | 0 | 1 | 2 | 3 | 3 | 3 | 3 | 4 |\n",
    "\n",
    "La casella [i][j] guarda el valor de longitud de la subseqüència més llarga entre la cadena1[0:j] i cadena2[0:i]"
   ]
  },
  {
   "cell_type": "code",
   "execution_count": 12,
   "metadata": {
    "id": "auk2BrBtZtJP"
   },
   "outputs": [],
   "source": [
    "\"\"\"\n",
    "    Aquesta funció identifica la longitud de la subseqüència\n",
    "    compartida més llarga. \n",
    "    En aquest algorisme s'optimitzen els càlculs amb una taula on es guarden\n",
    "    les solucions parcials\n",
    "    Parameters\n",
    "    ----------\n",
    "    cadena1: string\n",
    "    cadena2: string \n",
    "        Cadenes en les que buscar la subseqüència\n",
    "        \n",
    "    Returns\n",
    "    -------\n",
    "    numCaractersComuns: int\n",
    "        Longitud de la subseqüència més llarga\n",
    "\"\"\"\n",
    "def subsequencia_comu_v3(cadena1, cadena2):\n",
    "    llista=list(itertools.combinations(cadena1, 1))\n",
    "    c1 = set(itertools.combinations(cadena1, 1))\n",
    "    c2 = set(itertools.combinations(cadena1, 2))    \n",
    "    c3 = c1.intersection(c2)\n",
    "    \n",
    "    maxLen = 0\n",
    "    for i in c3:\n",
    "        if len(c3) > maxLen:\n",
    "            maxLen = len(c3)\n",
    "        \n",
    "    return maxLen"
   ]
  },
  {
   "cell_type": "code",
   "execution_count": 14,
   "metadata": {},
   "outputs": [
    {
     "name": "stdout",
     "output_type": "stream",
     "text": [
      "Longitud de la subseqüència més llarga: 4\n"
     ]
    }
   ],
   "source": [
    "def subsequencia_comu_v3(cadena1, cadena2):\n",
    "    m = len(cadena1)\n",
    "    n = len(cadena2)\n",
    "\n",
    "    # Inicialitzar una taula per emmagatzemar les solucions parcials\n",
    "    taula = [[0] * (n + 1) for _ in range(m + 1)]\n",
    "\n",
    "    # Omplir la taula amb les solucions parcials\n",
    "    for i in range(1, m + 1):\n",
    "        for j in range(1, n + 1):\n",
    "            if cadena1[i - 1] == cadena2[j - 1]:\n",
    "                taula[i][j] = taula[i - 1][j - 1] + 1\n",
    "            else:\n",
    "                taula[i][j] = max(taula[i - 1][j], taula[i][j - 1])\n",
    "\n",
    "    # La longitud de la subseqüència més llarga és a la casella inferior dreta de la taula\n",
    "    numCaractersComuns = taula[m][n]\n",
    "\n",
    "    return numCaractersComuns\n",
    "\n",
    "# Exemple d'ús\n",
    "cadena1 = \"ABCBDAB\"\n",
    "cadena2 = \"BDCAB\"\n",
    "resultat = subsequencia_comu_v3(cadena1, cadena2)\n",
    "print(\"Longitud de la subseqüència més llarga:\", resultat)"
   ]
  },
  {
   "cell_type": "code",
   "execution_count": 15,
   "metadata": {
    "id": "LctIuThEZtJP",
    "scrolled": true
   },
   "outputs": [],
   "source": [
    "assert subsequencia_comu_v3('XMJYAUZ','MZJAWU') == 4"
   ]
  },
  {
   "cell_type": "markdown",
   "metadata": {
    "id": "-3uU250EZtJQ"
   },
   "source": [
    " La complexitat de l'algorisme és O( )."
   ]
  }
 ],
 "metadata": {
  "colab": {
   "collapsed_sections": [],
   "name": "4.8.ipynb",
   "provenance": []
  },
  "kernelspec": {
   "display_name": "Python 3 (ipykernel)",
   "language": "python",
   "name": "python3"
  },
  "language_info": {
   "codemirror_mode": {
    "name": "ipython",
    "version": 3
   },
   "file_extension": ".py",
   "mimetype": "text/x-python",
   "name": "python",
   "nbconvert_exporter": "python",
   "pygments_lexer": "ipython3",
   "version": "3.11.4"
  }
 },
 "nbformat": 4,
 "nbformat_minor": 4
}
