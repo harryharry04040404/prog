{
 "cells": [
  {
   "cell_type": "markdown",
   "metadata": {
    "id": "Tq8bG1MNUhzi"
   },
   "source": [
    "# Capítol 3 - Algorismes i Nombres"
   ]
  },
  {
   "cell_type": "markdown",
   "metadata": {
    "id": "-b_Lt07AUhz0"
   },
   "source": [
    "### 3.9 Primeritat i el Teorema de Fermat"
   ]
  },
  {
   "cell_type": "code",
   "execution_count": null,
   "metadata": {},
   "outputs": [],
   "source": [
    "def es_primer(num):\n",
    "    b = True\n",
    "    i = 2\n",
    "    while i < num and True:\n",
    "        if num % i == 0:\n",
    "            b = False    \n",
    "        i += 1\n",
    "    return b"
   ]
  },
  {
   "cell_type": "code",
   "execution_count": 3,
   "metadata": {},
   "outputs": [],
   "source": [
    "from math import sqrt, ceil\n",
    "\n",
    "def es_primer(num):\n",
    "    b = True\n",
    "    for i in range(2, ceil(sqrt(num))):\n",
    "        if num % i == 0:\n",
    "            b = False    \n",
    "    return b"
   ]
  },
  {
   "cell_type": "code",
   "execution_count": 2,
   "metadata": {
    "id": "9HC6tSoaUhz0"
   },
   "outputs": [],
   "source": [
    "\"\"\"\n",
    "    Aquesta funció calcula els primer de Wieferich fins a n = 5000.\n",
    "    \n",
    "    Parameters\n",
    "    ----------\n",
    "    n: int\n",
    "    \n",
    "    Returns\n",
    "    -------\n",
    "    wieferich: list\n",
    "\"\"\"\n",
    "\n",
    "def primers_Wieferich(n = 5000):\n",
    "    i = 3\n",
    "    primerElevat = 0\n",
    "    wieferichExp = 0\n",
    "    wieferich = []\n",
    "    \n",
    "    while i <= n:\n",
    "        if es_primer(i):\n",
    "            primerElevat = i**2\n",
    "            wieferichExp = (2**(i-1))-1\n",
    "            if wieferichExp%primerElevat == 0:\n",
    "                wieferich.append(i)\n",
    "        i += 1\n",
    "    return wieferich\n",
    "    "
   ]
  },
  {
   "cell_type": "code",
   "execution_count": null,
   "metadata": {},
   "outputs": [],
   "source": [
    "def primers_Wieferich(n = 5000):\n",
    "    i = 3\n",
    "    primerElevat = 0\n",
    "    wieferichExp = 0\n",
    "    wieferich = []\n",
    "    \n",
    "    while i <= n:\n",
    "        if es_primer(i):\n",
    "            if pow(2, i-1, i**2) == 1:\n",
    "                wieferich.append(i)\n",
    "        i += 1\n",
    "    return wieferich"
   ]
  },
  {
   "cell_type": "code",
   "execution_count": 4,
   "metadata": {},
   "outputs": [],
   "source": [
    "def primers_Wieferich(n = 5000):    \n",
    "    return [i for i in range(3, n+1, 2) if pow(2, i-1, i**2) == 1 and es_primer(i)]"
   ]
  },
  {
   "cell_type": "code",
   "execution_count": 5,
   "metadata": {
    "id": "F8lCar_aUhz1",
    "scrolled": true
   },
   "outputs": [],
   "source": [
    "assert primers_Wieferich(n = 5000) == [1093,3511]"
   ]
  },
  {
   "cell_type": "code",
   "execution_count": null,
   "metadata": {
    "id": "alvUA8KRUhz1"
   },
   "outputs": [],
   "source": [
    " \"\"\"\n",
    "    Aquesta funció comprova si un determinat nombre és primer mitjançant la tècnica de factorització.\n",
    "    \n",
    "    Parameters\n",
    "    ----------\n",
    "    N: int\n",
    "    \n",
    "    Returns\n",
    "    -------\n",
    "    esPrimer: bool\n",
    "\"\"\"\n",
    "\n",
    "import math\n",
    "\n",
    "def factorp(N):\n",
    "    \n",
    "    return esPrimer\n",
    "\n",
    "\"\"\"\n",
    "    Aquesta funció comprova si un nombre es primer mitjançant la tècnica de Fermat\n",
    "    \n",
    "    Parameters\n",
    "    ----------\n",
    "    N: int\n",
    "    a: list\n",
    "    \n",
    "    Returns\n",
    "    -------\n",
    "    esPrimer: bool\n",
    "    \n",
    "    fermat = \n",
    "\"\"\"\n",
    "\n",
    "def fermatp(N, a = [2, 3, 5]):\n",
    "    \n",
    "    return esPrimer"
   ]
  },
  {
   "cell_type": "code",
   "execution_count": null,
   "metadata": {
    "id": "38WPdLEWUhz1"
   },
   "outputs": [],
   "source": [
    "assert factorp(10) == False\n",
    "assert fermatp(10) == False\n",
    "assert factorp(7) == True\n",
    "assert fermatp(7) == True\n",
    "assert factorp(5) == True\n",
    "assert fermatp(5) == True\n",
    "assert factorp(1) == False\n",
    "assert fermatp(1) == False"
   ]
  }
 ],
 "metadata": {
  "colab": {
   "collapsed_sections": [],
   "name": "3.9.ipynb",
   "provenance": []
  },
  "kernelspec": {
   "display_name": "Python 3 (ipykernel)",
   "language": "python",
   "name": "python3"
  },
  "language_info": {
   "codemirror_mode": {
    "name": "ipython",
    "version": 3
   },
   "file_extension": ".py",
   "mimetype": "text/x-python",
   "name": "python",
   "nbconvert_exporter": "python",
   "pygments_lexer": "ipython3",
   "version": "3.11.4"
  },
  "vscode": {
   "interpreter": {
    "hash": "b7d5521a80c2c370047c8b3946d4b51cbe9eac44fad1075e96f476b66b4a61cb"
   }
  }
 },
 "nbformat": 4,
 "nbformat_minor": 4
}
