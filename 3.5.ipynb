{
 "cells": [
  {
   "cell_type": "markdown",
   "metadata": {
    "id": "Tq8bG1MNUhzi"
   },
   "source": [
    "# Capítol 3 - Algorismes i Nombres"
   ]
  },
  {
   "cell_type": "markdown",
   "metadata": {
    "id": "RKMtB8eJUhzx"
   },
   "source": [
    "### 3.5 Operacions amb nombres binaris"
   ]
  },
  {
   "cell_type": "markdown",
   "metadata": {},
   "source": [
    "Determina si un nombre (no tindrem en compte els negatius) és potència de 2 fent ús de les operacions\\\n",
    "binàries d'acord amb les indicacions següents:\n",
    "+ Si ens fixem en la representació binària d'un nombre,\\\n",
    "és fàcil veure que les potències de 2 només tenen un bit a 1\n",
    "+ Pel que fa als bits, donada una potència de 2 (p. ex. 010000), el nombre\\\n",
    "anterior té una forma complementària en els bits menys significatius (001111)."
   ]
  },
  {
   "cell_type": "code",
   "execution_count": null,
   "metadata": {
    "id": "FYXzr352Uhzx"
   },
   "outputs": [],
   "source": [
    "\n",
    "    \"\"\"\n",
    "    Aquesta comprova si num és una potencia de 2.\n",
    "    \n",
    "    Parameters\n",
    "    ----------\n",
    "    num: int\n",
    "        Valor a determinar si es potencia de 2\n",
    "        \n",
    "    Returns\n",
    "    -------\n",
    "    esPotencia: bool\n",
    "        És num potencia de 2?\n",
    "    \"\"\"\n",
    "    "
   ]
  },
  {
   "cell_type": "code",
   "execution_count": 2,
   "metadata": {},
   "outputs": [],
   "source": [
    "def potencia2(num):\n",
    "    pDos = False\n",
    "    while num % 2 == 0:\n",
    "        pDos = True\n",
    "        num /= 2\n",
    "        if num == 1:\n",
    "            return True\n",
    "                \n",
    "    if pDos:\n",
    "        return True\n",
    "    else:\n",
    "        return False"
   ]
  },
  {
   "cell_type": "code",
   "execution_count": null,
   "metadata": {
    "id": "a05zLR_yUhzx"
   },
   "outputs": [],
   "source": [
    "import math\n",
    "def potencia2(num):\n",
    "    while num > 2:\n",
    "        num = math.sqrt(num)\n",
    "    \n",
    "    if num == 2:\n",
    "        return True\n",
    "    "
   ]
  },
  {
   "cell_type": "code",
   "execution_count": null,
   "metadata": {
    "id": "Owrcv_DjUhzx"
   },
   "outputs": [],
   "source": [
    "assert potencia2(1024) == True\n",
    "assert potencia2(2**2345) == True\n",
    "assert potencia2(2**2345-1) == False"
   ]
  }
 ],
 "metadata": {
  "colab": {
   "collapsed_sections": [],
   "name": "3.5.ipynb",
   "provenance": []
  },
  "kernelspec": {
   "display_name": "Python 3 (ipykernel)",
   "language": "python",
   "name": "python3"
  },
  "language_info": {
   "codemirror_mode": {
    "name": "ipython",
    "version": 3
   },
   "file_extension": ".py",
   "mimetype": "text/x-python",
   "name": "python",
   "nbconvert_exporter": "python",
   "pygments_lexer": "ipython3",
   "version": "3.11.4"
  }
 },
 "nbformat": 4,
 "nbformat_minor": 4
}
