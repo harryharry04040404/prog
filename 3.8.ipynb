{
 "cells": [
  {
   "cell_type": "markdown",
   "metadata": {
    "id": "Tq8bG1MNUhzi"
   },
   "source": [
    "# Capítol 3 - Algorismes i Nombres"
   ]
  },
  {
   "cell_type": "markdown",
   "metadata": {
    "id": "SMjaC9A4Uhz0"
   },
   "source": [
    "### 3.8 Primeritat"
   ]
  },
  {
   "cell_type": "markdown",
   "metadata": {},
   "source": [
    "El [sedàs d'Eratòstenes](https://ca.wikipedia.org/wiki/Sed%C3%A0s_d%27Erat%C3%B2stenes) és un algorisme per cercar tots els nombres primers fins un determinat enter. Aquest algorisme te la forma següent:\n",
    "\n",
    "- Escriu una llista ``llista1`` amb els nombres del $2$ fins a l'enter $N$ que vulguis calcular.\n",
    "- El primer nombre de la llista és un nombre primer. Anota'l en una llista de nombres primers, ``llista2``.\n",
    "- Esborra de la llista ``llista1`` el primer nombre i els seus múltiples.\n",
    "- Si el primer nombre de la llista ``llista1`` és més petit que $\\sqrt{N}$ torna al punt $2$.\n",
    "- Els nombres de la llista ``llista2`` i els que queden a la llista ``llista1`` són tots els nombres primers cercats.\n",
    "\n",
    "Implementa la funció ``eratostenes`` implementat l'algorisme d'Eratòstenes. A més a més, implementa la funció ``primer`` que retorna l'ennessim primer."
   ]
  },
  {
   "cell_type": "code",
   "execution_count": null,
   "metadata": {
    "id": "2f9HkoyWUhz0"
   },
   "outputs": [],
   "source": [
    "    \"\"\"\n",
    "    Aquesta funció implementa l'algorisme d'Eratòstenes per cercar tots els nombres primers fins a n.\n",
    "    \n",
    "    Parameters\n",
    "    ----------\n",
    "    n: int\n",
    "    \n",
    "    Returns\n",
    "    -------\n",
    "    ret: list\n",
    "    \"\"\"\n",
    "\n",
    "    \"\"\"\n",
    "    Aquesta funció retorna el l'ennessim primer.\n",
    "    \n",
    "    Parameters\n",
    "    ----------\n",
    "    n: int\n",
    "    \n",
    "    Returns\n",
    "    -------\n",
    "    primer: int\n",
    "    \"\"\"\n"
   ]
  },
  {
   "cell_type": "code",
   "execution_count": 62,
   "metadata": {},
   "outputs": [],
   "source": [
    "from math import sqrt\n",
    "from random import randint  \n",
    "\n",
    "def eratostenes(n) :\n",
    "    is_prime = [True] * (n + 1)\n",
    "    is_prime[0] = is_prime[1] = False  \n",
    "\n",
    "    p = 2\n",
    "    while p * p <= n:\n",
    "        if is_prime[p]:\n",
    "            for i in range(p * p, n + 1, p):\n",
    "                is_prime[i] = False\n",
    "        p += 1\n",
    "\n",
    "    prime_list = [i for i in range(2, n + 1) if is_prime[i]]\n",
    "    return prime_list"
   ]
  },
  {
   "cell_type": "code",
   "execution_count": null,
   "metadata": {},
   "outputs": [],
   "source": [
    "from math import sqrt\n",
    "from random import randint  \n",
    "\n",
    "def eratostenes(n) :\n",
    "    is_prime = [True] * (n + 1)\n",
    "    is_prime.remove(is_prime[0])\n",
    "    is_prime.remove(is_prime[1])  \n",
    "\n",
    "    p = 2\n",
    "    while p * p <= n:\n",
    "        if is_prime[p]:\n",
    "            for i in range(p * p, n + 1, p):\n",
    "                is_prime[i].remove(is_prime[i])\n",
    "        p += 1\n",
    "    return prime_list"
   ]
  },
  {
   "cell_type": "code",
   "execution_count": 63,
   "metadata": {},
   "outputs": [
    {
     "data": {
      "text/plain": [
       "3"
      ]
     },
     "execution_count": 63,
     "metadata": {},
     "output_type": "execute_result"
    }
   ],
   "source": [
    "def primer(n):\n",
    "    llistaPrimers = [2]  \n",
    "    i = 3 \n",
    "    while len(llistaPrimers) < n:\n",
    "        if all(i % prime != 0 for prime in llistaPrimers):\n",
    "            llistaPrimers.append(i)\n",
    "        i += 2 \n",
    "    return llistaPrimers[-1]\n",
    "\n",
    "primer(2)"
   ]
  },
  {
   "cell_type": "code",
   "execution_count": 64,
   "metadata": {
    "id": "deNLLT5wUhz0",
    "scrolled": false
   },
   "outputs": [],
   "source": [
    "assert primer(6) == 13\n",
    "assert primer(10001) == 104743"
   ]
  },
  {
   "cell_type": "markdown",
   "metadata": {},
   "source": [
    "Implementa ara l'algorisme d'Eratòstenes a la funció ``eratostenes_IO`` utilitzant mètodes d'entrada i sortida. "
   ]
  },
  {
   "cell_type": "code",
   "execution_count": null,
   "metadata": {},
   "outputs": [],
   "source": [
    "def eratostenes_IO(input_file, output_file):\n",
    "    \"\"\"\n",
    "    Aquesta funció implementa l'algorisme d'Eratòstenes per generar tots els nombres primers \n",
    "    fins a un nombre n, definit a un fitxer de text input_file, i guarda el resultat a un \n",
    "    fitxer de text output_file on estan escrits els primers ordenats i separats per coma.\n",
    "    Exemples de fitxers d'entrada i sortida són 'example_input_file.txt' i \n",
    "    'example_output_file.txt'. Assumim que el fitxer de sortida no existeix i que el fitxer\n",
    "    d'entrada existeix i està ben formatejat.\n",
    "    \n",
    "    Parameters\n",
    "    ----------\n",
    "    input_file: str \n",
    "    output_file: str\n",
    "\n",
    "    Returns\n",
    "    -------\n",
    "    Aquesta funció no retorna.\n",
    "    \"\"\"\n",
    "    pass"
   ]
  },
  {
   "cell_type": "markdown",
   "metadata": {},
   "source": [
    "Escriu una funció que calculi el factor primer més gran d'un nombre natural donat."
   ]
  },
  {
   "cell_type": "code",
   "execution_count": 2,
   "metadata": {
    "id": "ATnJ4dvgUhz0"
   },
   "outputs": [],
   "source": [
    "def factor_primer_mes_gran(n):\n",
    "    \"\"\"\n",
    "    Aquesta funció calcula el factor primer més gran d'un nombre natural donat.\n",
    "    \n",
    "    Parameters\n",
    "    ----------\n",
    "    n: int\n",
    "    \n",
    "    Returns\n",
    "    -------\n",
    "    factor: int\n",
    "    \"\"\""
   ]
  },
  {
   "cell_type": "code",
   "execution_count": null,
   "metadata": {},
   "outputs": [],
   "source": [
    "assert factor_primer_mes_gran(600851475143) == 6857\n",
    "assert factor_primer_mes_gran(2) == 2\n",
    "assert factor_primer_mes_gran(4) == 2\n",
    "assert factor_primer_mes_gran(7) == 7"
   ]
  }
 ],
 "metadata": {
  "colab": {
   "collapsed_sections": [],
   "name": "3.8.ipynb",
   "provenance": []
  },
  "kernelspec": {
   "display_name": "Python 3 (ipykernel)",
   "language": "python",
   "name": "python3"
  },
  "language_info": {
   "codemirror_mode": {
    "name": "ipython",
    "version": 3
   },
   "file_extension": ".py",
   "mimetype": "text/x-python",
   "name": "python",
   "nbconvert_exporter": "python",
   "pygments_lexer": "ipython3",
   "version": "3.11.4"
  },
  "vscode": {
   "interpreter": {
    "hash": "b7d5521a80c2c370047c8b3946d4b51cbe9eac44fad1075e96f476b66b4a61cb"
   }
  }
 },
 "nbformat": 4,
 "nbformat_minor": 4
}
