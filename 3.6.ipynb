{
 "cells": [
  {
   "cell_type": "markdown",
   "metadata": {
    "id": "Tq8bG1MNUhzi"
   },
   "source": [
    "# Capítol 3 - Algorismes i Nombres"
   ]
  },
  {
   "cell_type": "markdown",
   "metadata": {
    "id": "tCtf0jLsUhzy"
   },
   "source": [
    "### 3.6 Aritmetica modular"
   ]
  },
  {
   "cell_type": "code",
   "execution_count": null,
   "metadata": {
    "id": "_ZIPSE7YUhzy"
   },
   "outputs": [],
   "source": [
    "    \"\"\"\n",
    "    Aquesta funció valida si la lletre correspon al DNI\n",
    "    \n",
    "    Parameters\n",
    "    ----------\n",
    "    cadenaNIF: str\n",
    "        NIF\n",
    "        \n",
    "    Returns\n",
    "    -------\n",
    "    esCorrecte: bool\n",
    "        Retorna si el NIF és correcte o no.\n",
    "    \"\"\"\n"
   ]
  },
  {
   "cell_type": "code",
   "execution_count": 36,
   "metadata": {},
   "outputs": [],
   "source": [
    "def validar_NIF(cadenaNIF):\n",
    "    esCorrecte = False\n",
    "    letD = cadenaNIF[- 1]\n",
    "    letD = letD.upper()\n",
    "    letterDict = { \"T\":0, \"R\":1, \"W\":2, \"A\":3, \"G\":4, \"M\":5, \"Y\":6, \"F\":7, \"P\":8, \"D\":9, \"X\":10, \n",
    "    \"B\":11, \"N\":12, \"J\":13, \"Z\":14, \"S\":15, \"Q\":16, \"V\":17, \"H\":18, \"L\":19, \"C\":20, \"K\":21, \"E\":22 }\n",
    "    cadenaNIF = int(cadenaNIF[:-1])%23 \n",
    "    codeTaula = letterDict[letD]\n",
    "    if cadenaNIF == codeTaula:\n",
    "        esCorrecte = True\n",
    "    return esCorrecte"
   ]
  },
  {
   "cell_type": "code",
   "execution_count": 38,
   "metadata": {},
   "outputs": [],
   "source": [
    "def validar_NIF(cadenaNIF):\n",
    "    letter_dict = { \"T\":0, \"R\":1, \"W\":2, \"A\":3, \"G\":4, \"M\":5, \"Y\":6, \"F\":7, \"P\":8, \"D\":9, \"X\":10,\n",
    "                    \"B\":11, \"N\":12, \"J\":13, \"Z\":14, \"S\":15, \"Q\":16, \"V\":17, \"H\":18, \"L\":19, \"C\":20, \"K\":21, \"E\":22 }\n",
    "    letD = cadenaNIF[-1].upper()\n",
    "    numeric_part = int(cadenaNIF[:-1])\n",
    "    remainder = numeric_part % 23\n",
    "    expected_value = letter_dict.get(letD)\n",
    "    return expected_value is not None and expected_value == remainder"
   ]
  },
  {
   "cell_type": "code",
   "execution_count": 39,
   "metadata": {
    "id": "ez-eMr8lUhzy",
    "scrolled": false
   },
   "outputs": [],
   "source": [
    "assert validar_NIF('56789123F') == True\n",
    "assert validar_NIF('56789123H') == False"
   ]
  },
  {
   "cell_type": "code",
   "execution_count": null,
   "metadata": {
    "id": "GFAk9cV3Uhzy"
   },
   "outputs": [],
   "source": [
    "    \"\"\"\n",
    "    Aquesta funció tradueix el valor num en el nom corresponent que tindriem en un full de càlcul.\n",
    "    \n",
    "    Parameters\n",
    "    ----------\n",
    "    num: int\n",
    "    \n",
    "    Returns\n",
    "    columna: str\n",
    "    \"\"\"\n"
   ]
  },
  {
   "cell_type": "code",
   "execution_count": 52,
   "metadata": {
    "id": "O_2SAkrsUhzy"
   },
   "outputs": [],
   "source": [
    "def conversio_fulla_calcul(num):\n",
    "    columna = \"\"\n",
    "    lltraDicc = { \n",
    "        1:'A', \n",
    "        2:'B', \n",
    "        3:'C', \n",
    "        4:'D', \n",
    "        5:'E', \n",
    "        6:'F', \n",
    "        7:'G',\n",
    "        8:'H',  \n",
    "        9:'I',  \n",
    "        10:'J', \n",
    "        11:'K',\n",
    "        12:'L', \n",
    "        13:'M', \n",
    "        14:'N',\n",
    "        15:'O',\n",
    "        16:'P',\n",
    "        17:'Q',\n",
    "        18:'R',\n",
    "        19:'S',\n",
    "        20:'T',\n",
    "        21:'U',\n",
    "        22:'V',\n",
    "        23:'W',\n",
    "        24:'X',\n",
    "        25:'Y',\n",
    "        26:'Z' \n",
    "    }\n",
    "    while num > 0:\n",
    "        if num < 27:\n",
    "            lastVal = lltraDicc.get(num)\n",
    "            columna = columna + lastVal\n",
    "            num -= 26\n",
    "        else:\n",
    "            numDicc = (num % 26)\n",
    "            print(numDicc)\n",
    "            valNou = lltraDicc.get(numDicc)\n",
    "            columna = columna + valNou\n",
    "            num -= 26\n",
    "    return columna"
   ]
  },
  {
   "cell_type": "code",
   "execution_count": 54,
   "metadata": {},
   "outputs": [],
   "source": [
    "def conversio_fulla_calcul(num):\n",
    "    columna = \"\"\n",
    "    lltraDicc = { \n",
    "        1: 'A', 2: 'B', 3: 'C', 4: 'D', 5: 'E', 6: 'F', 7: 'G', 8: 'H', 9: 'I', 10: 'J', 11: 'K',\n",
    "        12: 'L', 13: 'M', 14: 'N', 15: 'O', 16: 'P', 17: 'Q', 18: 'R', 19: 'S', 20: 'T', 21: 'U',\n",
    "        22: 'V', 23: 'W', 24: 'X', 25: 'Y', 26: 'Z' \n",
    "    }\n",
    "    while num > 0:\n",
    "        if num <= 26:\n",
    "            lastVal = lltraDicc.get(num)\n",
    "            columna = lastVal + columna\n",
    "            num = 0\n",
    "        else:\n",
    "            numDicc = (num % 26)\n",
    "            if numDicc == 0:\n",
    "                numDicc = 26\n",
    "            valNou = lltraDicc.get(numDicc)\n",
    "            columna = valNou + columna\n",
    "            num = (num - numDicc) // 26\n",
    "    return columna\n"
   ]
  },
  {
   "cell_type": "code",
   "execution_count": 55,
   "metadata": {
    "id": "DIe-ltSWUhzy"
   },
   "outputs": [],
   "source": [
    "assert conversio_fulla_calcul(1) == 'A'\n",
    "assert conversio_fulla_calcul(25) == 'Y'\n",
    "assert conversio_fulla_calcul(26) == 'Z'\n",
    "assert conversio_fulla_calcul(27) == 'AA'\n",
    "assert conversio_fulla_calcul(28) == 'AB'\n",
    "assert conversio_fulla_calcul(29) == 'AC'\n",
    "assert conversio_fulla_calcul(107) == 'DC'\n",
    "assert conversio_fulla_calcul(406) == 'OP'\n",
    "assert conversio_fulla_calcul(407) == 'OQ'\n",
    "assert conversio_fulla_calcul(408) == 'OR'\n",
    "assert conversio_fulla_calcul(412) == 'OV'\n",
    "assert conversio_fulla_calcul(702) == 'ZZ'\n",
    "assert conversio_fulla_calcul(703) == 'AAA'\n",
    "assert conversio_fulla_calcul(704) == 'AAB'\n",
    "assert conversio_fulla_calcul(705) == 'AAC'\n",
    "assert conversio_fulla_calcul(708) == 'AAF'\n",
    "assert conversio_fulla_calcul(1000) == 'ALL'"
   ]
  }
 ],
 "metadata": {
  "colab": {
   "collapsed_sections": [],
   "name": "3.6.ipynb",
   "provenance": []
  },
  "kernelspec": {
   "display_name": "Python 3 (ipykernel)",
   "language": "python",
   "name": "python3"
  },
  "language_info": {
   "codemirror_mode": {
    "name": "ipython",
    "version": 3
   },
   "file_extension": ".py",
   "mimetype": "text/x-python",
   "name": "python",
   "nbconvert_exporter": "python",
   "pygments_lexer": "ipython3",
   "version": "3.11.4"
  }
 },
 "nbformat": 4,
 "nbformat_minor": 1
}
