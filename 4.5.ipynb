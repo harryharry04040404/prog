{
 "cells": [
  {
   "cell_type": "markdown",
   "metadata": {
    "id": "Wwhw_mq0ZtJB"
   },
   "source": [
    "# Capítol 4 - Algorismes i Text"
   ]
  },
  {
   "cell_type": "markdown",
   "metadata": {
    "id": "8mOc5hGEZtJK"
   },
   "source": [
    "### 4.5 Levensthein (amb la modificació en realitat usem l'algorisme de Smith-Waterman)"
   ]
  },
  {
   "cell_type": "markdown",
   "metadata": {},
   "source": [
    "Una seqüència genètica és una cadena (string) formada per caràcters d'un alfabet de quatre lletres: A, T, G, C, anomenats **bases**, que corresponen a les macromolècules de l'**ADN**. Un **gen** és una seqüència ordenada de bases i el **genoma** és la concatenació de tots els gens.\n",
    "\n",
    "Cada cèl·lula produïda pel cos rep una còpia del genoma, però sovint aquesta còpia és alterada. Les possibles alteracions que es poden produir són, entre d'altres, la substitució d'una base per una altra o la pèrdua d'una base.\n",
    "\n",
    "Fes una funció, anomenada \"dna\", basada en l'algorisme de Levensthein, que busqui dins d'una seqüència genètica una cadena genètica passada per paràmetre.\n",
    "\n",
    "Aquesta funció ha de retornar la línia del fitxer on comença la cadena més semblant i la distància entre la cadena d'entrada i la cadena més semblant.\n",
    "\n",
    "<span style=\"color:DarkBlue\">El càlcul  de la distància d'un patró al *substring* més semblant d'un text es pot fer amb l'algorisme de Levenshtein. L'única diferència és que s'ha d'inicialitzar la primera fila amb zeros i que la distància d'edició serà el valor mínim de l'última fila de la matriu de costos. També has de tenir en compte els costos en la inicialització de la primera columna.</span>\n",
    "\n",
    "\n",
    "La seqüència genètica que farem servir és la del cromosoma 2 humà (fitxer HUMAN-DNA.txt a la secció de fitxers auxiliars).\n",
    "\n",
    "Les primeres línies d'aquest fitxer tenen aquesta forma:\n",
    "\n",
    "CCCATCTCTTTCTCATTCCTTGGTTGAGAACACGAACTTCAGGACTTGCCTCACACTAGGGCCCATTCTT\n",
    "TGTTTCCCAGAAAGAAGAGGCTCTCCACACAGAGTCCCATGTACACCAGGCTGTCAACAAACATGAATTG\n",
    "AATGAAGGAGTGGATGGTTGGGTGGAAGTGATTTAAGAAATCCTAACTGGGGAATTTCACTGGAAACTTA\n",
    "\n",
    "En programar aquesta funció, cal que tinguis en compte que, en aplicacions bioinformàtiques, els costos de les operacions d'edició són lleugerament diferents dels que hem vist fins ara:\n",
    "\n",
    "+ Per a un salt o inserció (al patró o al text), el cost és 2\n",
    "+ Per a una substitució, el cost és 1\n",
    "+ Quan hi ha correspondència, el cost és 0.\n",
    "\n",
    "\n",
    "Adapta la teva funció anterior, \"dna\", a aquests costos. La funció ha de rebre com a entrada el patró que volem buscar i ha de retornar dos valors: la línia del fitxer on comença la cadena més semblant al patró i la distància mínima entre aquesta cadena i el patró."
   ]
  },
  {
   "cell_type": "code",
   "execution_count": 2,
   "metadata": {
    "id": "XeOUW_g2ZtJL",
    "scrolled": false
   },
   "outputs": [
    {
     "ename": "SyntaxError",
     "evalue": "invalid syntax (1515320236.py, line 37)",
     "output_type": "error",
     "traceback": [
      "\u001b[1;36m  Cell \u001b[1;32mIn[2], line 37\u001b[1;36m\u001b[0m\n\u001b[1;33m    return dist[i][j] = min(insertion,deletion,substitution)\u001b[0m\n\u001b[1;37m                      ^\u001b[0m\n\u001b[1;31mSyntaxError\u001b[0m\u001b[1;31m:\u001b[0m invalid syntax\n"
     ]
    }
   ],
   "source": [
    "\"\"\"\n",
    "Aquesta funció implementa l'algorisme de Levenstheinsmithwaterman.\n",
    "\n",
    "Parameters\n",
    "----------\n",
    "patro: string\n",
    "text: sting\n",
    "\n",
    "dlt: int (default)\n",
    "insr: int (default)\n",
    "subs: int (default)\n",
    "Costos d'edició\n",
    "\n",
    "Returns\n",
    "-------\n",
    "minDistance: int\n",
    "\"\"\"                          \n",
    "def levenstheinsmithwaterman(patro, text, dlt = 2, insr = 2, subs = 1): \n",
    "    \"The cost is passed by parameter so its modificable\"\n",
    "    if len(patro) > len(text): \n",
    "        patro, text = text, patro       # el primer sempre més curt\n",
    "    if len(text) == 0: \n",
    "        return len(patro)\n",
    "    patro_length = len(patro) + 1\n",
    "    text_length = len(text) + 1\n",
    "    dist = [[0] * text_length for x in range(patro_length)] \n",
    "    for i in range(patro_length): \n",
    "          dist[i][0] = i*dlt\n",
    "    for i in range(1, patro_length):   # recorregut resta caselles\n",
    "        for j in range(1, text_length):\n",
    "            deletion = dist[i-1][j] + dlt\n",
    "            insertion = dist[i][j-1] + insr\n",
    "            if patro[i-1] == text[j-1]: \n",
    "                  substitution = dist[i-1][j-1]\n",
    "            else:\n",
    "                substitution = dist[i-1][j-1] + subs     \n",
    "    return dist[i][j] = min(insertion,deletion,substitution)\n",
    "\n",
    "\n",
    "\"\"\"\n",
    "Aquesta funció aplica l'algorisme de Levensthein sobre una seqüència del dna per trobar diferents patrons.\n",
    "\n",
    "Parameters\n",
    "----------\n",
    "patro: string\n",
    "fitxer: string (default)\n",
    "\n",
    "Returns\n",
    "-------\n",
    "linia: int\n",
    "distanciafinal: int\n",
    "\"\"\"\n",
    "def dna(patro, fitxer = 'HUMAN-DNA.txt'):\n",
    "    f = open(fitxer)\n",
    "    text = f.readlines()\n",
    "    f.close()\n",
    "#     min_dist =  levenstheinsmithwaterman(patro, text[0])\n",
    "    min_dist = None\n",
    "    min_line_num = 0\n",
    "    \n",
    "    for line_idx, line in enumerate(text):\n",
    "        line = line.strip()\n",
    "        dist = levenstheinsmithwaterman(patro, line)\n",
    "        if min_dist is None or min_dist > dist:\n",
    "            min_dist = dist\n",
    "            min_line_num = line_idx + 1\n",
    "    return min_line_num, min_dist\n",
    "# print(line_idx  + 1, line, dist)\n",
    "# for line_idx, line in enumerate(text):\n",
    "# prints lines, from 0 to etc, idx is line + 1\n",
    "\n",
    "dna('AGATACATTAGACAATAGAGATGTGGTC')"
   ]
  },
  {
   "cell_type": "code",
   "execution_count": 1,
   "metadata": {},
   "outputs": [
    {
     "ename": "NameError",
     "evalue": "name 'levenstheinsmithwaterman' is not defined",
     "output_type": "error",
     "traceback": [
      "\u001b[1;31m---------------------------------------------------------------------------\u001b[0m",
      "\u001b[1;31mNameError\u001b[0m                                 Traceback (most recent call last)",
      "Cell \u001b[1;32mIn[1], line 19\u001b[0m\n\u001b[0;32m     16\u001b[0m     \u001b[38;5;28;01mreturn\u001b[39;00m min_line_num, min_dist\n\u001b[0;32m     18\u001b[0m \u001b[38;5;66;03m# Ejemplo de uso:\u001b[39;00m\n\u001b[1;32m---> 19\u001b[0m numero_linea, distancia_minima \u001b[38;5;241m=\u001b[39m dna(\u001b[38;5;124m\"\u001b[39m\u001b[38;5;124mpatron_a_buscar\u001b[39m\u001b[38;5;124m\"\u001b[39m)\n\u001b[0;32m     20\u001b[0m \u001b[38;5;28mprint\u001b[39m(\u001b[38;5;124mf\u001b[39m\u001b[38;5;124m\"\u001b[39m\u001b[38;5;124mNúmero de línea: \u001b[39m\u001b[38;5;132;01m{\u001b[39;00mnumero_linea\u001b[38;5;132;01m}\u001b[39;00m\u001b[38;5;124m, Distancia mínima: \u001b[39m\u001b[38;5;132;01m{\u001b[39;00mdistancia_minima\u001b[38;5;132;01m}\u001b[39;00m\u001b[38;5;124m\"\u001b[39m)\n",
      "Cell \u001b[1;32mIn[1], line 11\u001b[0m, in \u001b[0;36mdna\u001b[1;34m(patro, fitxer)\u001b[0m\n\u001b[0;32m      9\u001b[0m \u001b[38;5;28;01mfor\u001b[39;00m line_idx, line \u001b[38;5;129;01min\u001b[39;00m \u001b[38;5;28menumerate\u001b[39m(text):\n\u001b[0;32m     10\u001b[0m     line \u001b[38;5;241m=\u001b[39m line\u001b[38;5;241m.\u001b[39mstrip()\n\u001b[1;32m---> 11\u001b[0m     dist \u001b[38;5;241m=\u001b[39m levenstheinsmithwaterman(patro, line)\n\u001b[0;32m     12\u001b[0m     \u001b[38;5;28;01mif\u001b[39;00m min_dist \u001b[38;5;129;01mis\u001b[39;00m \u001b[38;5;28;01mNone\u001b[39;00m \u001b[38;5;129;01mor\u001b[39;00m dist \u001b[38;5;241m<\u001b[39m min_dist:\n\u001b[0;32m     13\u001b[0m         min_dist \u001b[38;5;241m=\u001b[39m dist\n",
      "\u001b[1;31mNameError\u001b[0m: name 'levenstheinsmithwaterman' is not defined"
     ]
    }
   ],
   "source": [
    "def levenstheinsmithwaterman(patro, text, dlt=2, insr=2, subs=1):\n",
    "    if len(patro) > len(text):\n",
    "        patro, text = text, patro  # el primer sempre més curt\n",
    "    if len(text) == 0:\n",
    "        return len(patro)\n",
    "    patro_length = len(patro) + 1\n",
    "    text_length = len(text) + 1\n",
    "    dist = [[0] * text_length for x in range(patro_length)]\n",
    "    for i in range(patro_length):\n",
    "        dist[i][0] = i * dlt\n",
    "    for i in range(1, patro_length):  # recorregut resta caselles\n",
    "        for j in range(1, text_length):\n",
    "            deletion = dist[i - 1][j] + dlt\n",
    "            insertion = dist[i][j - 1] + insr\n",
    "            if patro[i - 1] == text[j - 1]:\n",
    "                substitution = dist[i - 1][j - 1]\n",
    "            else:\n",
    "                substitution = dist[i - 1][j - 1] + subs\n",
    "            dist[i][j] = min(insertion, deletion, substitution)\n",
    "    return dist[patro_length - 1][text_length - 1]\n",
    "\n",
    "def dna(patro, fitxer='HUMAN-DNA.txt'):\n",
    "    f = open(fitxer)\n",
    "    text = f.readlines()\n",
    "    f.close()\n",
    "\n",
    "    min_dist = None\n",
    "    min_line_num = 0\n",
    "\n",
    "    for line_idx, line in enumerate(text):\n",
    "        line = line.strip()\n",
    "        dist = levenstheinsmithwaterman(patro, line)\n",
    "        if min_dist is None or dist < min_dist:\n",
    "            min_dist = dist\n",
    "            min_line_num = line_idx + 1\n",
    "\n",
    "    return min_line_num, min_dist\n",
    "\n",
    "# Ejemplo de uso:\n",
    "numero_linea, distancia_minima = dna(\"patron_a_buscar\")\n",
    "print(f\"Número de línea: {numero_linea}, Distancia mínima: {distancia_minima}\")\n"
   ]
  },
  {
   "cell_type": "code",
   "execution_count": 10,
   "metadata": {
    "id": "zJxdjiMtZtJL"
   },
   "outputs": [
    {
     "ename": "AssertionError",
     "evalue": "",
     "output_type": "error",
     "traceback": [
      "\u001b[1;31m---------------------------------------------------------------------------\u001b[0m",
      "\u001b[1;31mAssertionError\u001b[0m                            Traceback (most recent call last)",
      "Cell \u001b[1;32mIn[10], line 1\u001b[0m\n\u001b[1;32m----> 1\u001b[0m \u001b[38;5;28;01massert\u001b[39;00m dna(\u001b[38;5;124m'\u001b[39m\u001b[38;5;124mAGATACATTAGACAATAGAGATGTGGTC\u001b[39m\u001b[38;5;124m'\u001b[39m) \u001b[38;5;241m==\u001b[39m (\u001b[38;5;241m32\u001b[39m, \u001b[38;5;241m11\u001b[39m)\n\u001b[0;32m      2\u001b[0m \u001b[38;5;28;01massert\u001b[39;00m dna(\u001b[38;5;124m'\u001b[39m\u001b[38;5;124mGTCAGTCTGGCCTTGCCATTGGTGCCACCA\u001b[39m\u001b[38;5;124m'\u001b[39m) \u001b[38;5;241m==\u001b[39m (\u001b[38;5;241m352\u001b[39m, \u001b[38;5;241m11\u001b[39m)\n\u001b[0;32m      3\u001b[0m \u001b[38;5;28;01massert\u001b[39;00m dna(\u001b[38;5;124m'\u001b[39m\u001b[38;5;124mTACCGAGAAGCTGGATTACAGCATGTACCATCAT\u001b[39m\u001b[38;5;124m'\u001b[39m) \u001b[38;5;241m==\u001b[39m (\u001b[38;5;241m233\u001b[39m, \u001b[38;5;241m13\u001b[39m)\n",
      "\u001b[1;31mAssertionError\u001b[0m: "
     ]
    }
   ],
   "source": [
    "assert dna('AGATACATTAGACAATAGAGATGTGGTC') == (32, 11)\n",
    "assert dna('GTCAGTCTGGCCTTGCCATTGGTGCCACCA') == (352, 11)\n",
    "assert dna('TACCGAGAAGCTGGATTACAGCATGTACCATCAT') == (233, 13)"
   ]
  },
  {
   "cell_type": "markdown",
   "metadata": {},
   "source": [
    "Si a més de saber la distància volem saber quins canvis hi ha hagut haurem de modificar els anteriors algorismes per guardar els canvis a cada pas i un cop trobada la distància mínima desfer els passos i anar apuntant els canvis.\n",
    "\n",
    "Recordem que hi pot haver 4 tipus de canvis\n",
    "\n",
    "+ I: Insertion\n",
    "+ D: Deletion\n",
    "+ S: Substitution\n",
    "+ C: Coincidence (no hi ha canvis)\n",
    "\n",
    "Reescriu les anteriors funcions per registrar els canvis i per mostrar-los al final."
   ]
  },
  {
   "cell_type": "code",
   "execution_count": 2,
   "metadata": {
    "id": "xDli17b15Rvt"
   },
   "outputs": [
    {
     "ename": "IndentationError",
     "evalue": "expected an indented block after function definition on line 47 (782401544.py, line 48)",
     "output_type": "error",
     "traceback": [
      "\u001b[1;36m  Cell \u001b[1;32mIn[2], line 48\u001b[1;36m\u001b[0m\n\u001b[1;33m    \"\"\"\u001b[0m\n\u001b[1;37m    ^\u001b[0m\n\u001b[1;31mIndentationError\u001b[0m\u001b[1;31m:\u001b[0m expected an indented block after function definition on line 47\n"
     ]
    }
   ],
   "source": [
    "\"\"\"\n",
    "Aquesta funció implementa l'algorisme de Levenstheinsmithwaterman. \n",
    "Però a més registra els canvis de cada pas\n",
    "\n",
    "Parameters\n",
    "----------\n",
    "patro: string\n",
    "text: sting\n",
    "\n",
    "dlt: int (default)\n",
    "insr: int (default)\n",
    "subs: int (default)\n",
    "Costos d'edició\n",
    "\n",
    "Returns\n",
    "-------\n",
    "minDistance: int\n",
    "ini,fi: int inici i final\n",
    "movements: matrix of movements\n",
    "\n",
    "\"\"\"                          \n",
    "\n",
    "def levenstheinsmithwaterman(first, second, dlt = 2, insr = 2, subs = 1):\n",
    "    if len(first) > len(second): \n",
    "        first, second = second, first\n",
    "    if len(second) == 0: \n",
    "        return len(first)\n",
    "    first_length = len(first) + 1\n",
    "    second_length = len(second) + 1\n",
    "    distance_matrix = [[0] * second_length for x in range(first_length)]\n",
    "    for i in range(first_length): \n",
    "        distance_matrix[i][0] = i\n",
    "    for j in range(second_length): \n",
    "        distance_matrix[0][j] = j\n",
    "    for i in range(1, first_length):\n",
    "        for j in range(1, second_length):\n",
    "            deletion = distance_matrix[i-1][j] + 1\n",
    "            insertion = distance_matrix[i][j-1] + 1\n",
    "            substitution = distance_matrix[i-1][j-1]\n",
    "            if first[i-1] != second[j-1]: \n",
    "                substitution += 1\n",
    "            distance_matrix[i][j] = min(insertion,deletion,substitution)\n",
    "    return distance_matrix[first_length-1][second_length-1]\n",
    "# return (fi,ini),min(distance_matrix[max_row-1]),movements\n",
    "\n",
    "\n",
    "def dna(patro, fitxer = 'HUMAN-DNA.txt'):\n",
    "    \n",
    "    return (linia,(ini, fi), distancialinia, movements)"
   ]
  },
  {
   "cell_type": "code",
   "execution_count": null,
   "metadata": {},
   "outputs": [],
   "source": [
    "# Prova: si a la funció anterior li canvieu el return com s'indica\n",
    "\"\"\"\n",
    "Aquesta funció aplica l'algorisme de Levensthein sobre una seqüència del dna per trobar diferents patrons.\n",
    "I a més ens diu quins canvis hi ha hagut\n",
    "\n",
    "Parameters\n",
    "----------\n",
    "patro: string\n",
    "fitxer: string (default)\n",
    "\n",
    "Returns\n",
    "-------\n",
    "linia: int\n",
    "ini,fi: int inici i final\n",
    "distanciafinal: int\n",
    "movements: matrix of movements\n",
    "\"\"\"\n",
    "\"\"\"\n",
    "Aquesta funció implementa l'algorisme de Levenstheinsmithwaterman. \n",
    "Però a més registra els canvis de cada pas\n",
    "\n",
    "Parameters\n",
    "----------\n",
    "patro: string\n",
    "text: sting\n",
    "\n",
    "dlt: int (default)\n",
    "insr: int (default)\n",
    "subs: int (default)\n",
    "Costos d'edició\n",
    "\n",
    "Returns\n",
    "-------\n",
    "minDistance: int\n",
    "ini,fi: int inici i final\n",
    "movements: matrix of movements\n",
    "\n",
    "\"\"\"                          '''\n",
    "i ho crideu amb els següents valors:\n",
    "\n",
    "levenstheinsmithwaterman(\"VAR\", \"BERRVIPVA\", dlt = 2, insr = 2, subs = 1)\n",
    "\n",
    "Les matrius de resultats seran:\n",
    "[['X', 'I', 'I', 'I', 'I', 'I', 'I', 'I', 'I', 'I'],\n",
    "['D', 'S', 'S', 'S', 'S', 'C', 'S', 'S', 'C', 'S'],\n",
    "['D', 'S', 'S', 'S', 'S', 'S', 'S', 'S', 'S', 'C'],\n",
    "['D', 'S', 'S', 'C', 'C', 'S', 'S', 'S', 'S', 'D']]\n",
    "\n",
    "i\n",
    "\n",
    "[[0, 0, 0, 0, 0, 0, 0, 0, 0, 0],\n",
    "[2, 1, 1, 1, 1, 0, 1, 1, 0, 1],\n",
    "[4, 3, 2, 2, 2, 2, 1, 2, 2, 0],\n",
    "[6, 5, 4, 2, 2, 3, 3, 2, 3, 2]]\n",
    "\n",
    "respectivament, \n",
    "\n",
    "per tant hi hauria diverses solucions:\n",
    "\n",
    "BER 2,0 distancia 2 moviments S,S,C\n",
    "ERR 3,1 distancia 2 moviments S,S,C\n",
    "VIP 6,4 distancia 2 moviments C,S,S\n",
    "VA 8,7 distancia 2 moviments C,C,D \n",
    "o qualsevol altre amb més caràcters del text al davant\n",
    "\n",
    "Les solucions que us donem a l'assert correspondrien a BER \n",
    "però les altres són correctes\n",
    "'''\n",
    "\n",
    "\n",
    "def levenstheinsmithwaterman(patro, text, dlt = 2, insr = 2, subs = 1):\n",
    "\n",
    "return (fi,l),min(distance_matrix[max_row-1]),movement_matrix, distance_matrix\n",
    "\n",
    "\n"
   ]
  },
  {
   "cell_type": "code",
   "execution_count": null,
   "metadata": {
    "id": "uCCKL3b4ZtJN"
   },
   "outputs": [],
   "source": [
    "assert dna(\"CTGGTACCAGCTGTATTAGC\") == (729,(11, 30), 6, ['C',  'C',  'C',  'C',  'C',  'C',  'C',  'S',  'C',  'S',  'C',  'S',  'S',  'S',  'C',  'C',  'S',  'C',  'C',  'C'])\n",
    "assert dna(\"TCGTCATAAACCGCTGTGCC\") == (213,(12, 31), 7, ['S',  'C',  'S',  'C',  'C',  'C',  'C',  'C',  'C',  'C',  'C',  'C',  'S',  'S',  'C',  'C',  'S',  'S',  'C',  'S'])\n",
    "assert dna(\"TATACAAACGGAGTAGCTGT\") == (286, (5, 24), 6, ['C',  'C',  'C',  'C',  'S',  'C',  'S',  'C',  'C',  'S',  'C',  'S',  'S',  'C',  'C',  'C',  'S',  'C',  'C',  'C'])\n",
    "assert dna(\"AGGCGTAAGTCTTACGTATA\") == (6, (41, 60), 7, ['C',  'S',  'C',  'S',  'S',  'C',  'C',  'C',  'C',  'C',  'C',  'S',  'C',  'S',  'S',  'C',  'S',  'C',  'C',  'C'])\n",
    "assert dna(\"AACGGCATAGCCTGCAAGAG\") == (434, (41, 60), 5, ['C',  'C',  'S',  'C',  'C',  'C',  'C',  'S',  'C',  'S',  'C',  'C',  'C',  'C',  'C',  'C',  'C',  'S',  'C',  'S'])\n",
    "assert dna(\"GTGCGTCCACCCTTAATACA\") == (197,  (41, 60), 6, ['C',  'C',  'C',  'S',  'S',  'C',  'S',  'C',  'C',  'C',  'C',  'C',  'C',  'S',  'C',  'S',  'C',  'C',  'S',  'C'])\n",
    "assert dna(\"CCCTAAAACCAAAAGTGTTG\") == (200, (30, 48), 6, ['S',  'C',  'C',  'C',  'S',  'C',  'C',  'C',  'S',  'S',  'C',  'C',  'C',  'C',  'C',  'C',  'C',  'D',  'C',  'C'])\n",
    "assert dna(\"GTCAGCACCGGGATCTGTAT\") == (241, (26, 45), 7, ['C',  'S',  'C',  'S',  'S',  'C',  'C',  'C',  'C',  'C',  'S',  'C',  'C',  'S',  'C',  'S',  'C',  'C',  'S',  'C'])\n",
    "assert dna(\"GAGCCCCGACGTTTTAACGA\") == (69, (6, 25), 7, ['S',  'C',  'C',  'C',  'C',  'C',  'C',  'S',  'C', 'C',  'S',  'C',  'S',  'C',  'C',  'C',  'S',  'S',  'S',  'C'])\n",
    "assert dna(\"CACACCTTTCAGTACGTGAA\") == (41, (14, 31), 7, ['C',  'C',  'C',  'D',  'C',  'S',  'C',  'C',  'C',  'C',  'C',  'C',  'C',  'C',  'S',  'C',  'D',  'S',  'C',  'C'])\n",
    "assert dna(\"CCTCGTAGACAGTACCGAAT\") == (449, (30, 49), 6, ['C',  'S',  'C',  'C',  'S',  'C',  'C',  'S',  'C',  'C',  'C',  'S',  'C',  'C',  'C',  'C',  'S',  'S',  'C',  'C'])\n",
    "assert dna(\"CGACCAAAGAGCCTGTATCT\") == (321,  (35, 54), 7, ['S',  'S',  'C',  'S',  'S',  'C',  'C',  'C',  'C',  'S',  'C',  'S',  'C',  'C',  'S',  'C',  'C',  'C',  'C',  'C'])\n",
    "assert dna(\"CGTGGTGTCCATACCCTAGC\") == (836, (24, 42), 6, ['C',  'S',  'C',  'C',  'C',  'C',  'C',  'S',  'C',  'C',  'C',  'C',  'S',  'C',  'C',  'C',  'D',  'C',  'S',  'C'])\n",
    "assert dna(\"GTGATAGACCTTTTAAGCTG\") == (410, (18, 36), 6, ['S',  'C',  'C',  'C',  'C',  'C',  'D',  'C',  'C',  'C',  'C',  'C',  'S',  'C',  'C',  'C',  'S',  'S',  'C',  'C'])\n",
    "assert dna(\"TAAGTCTTTGGTCACCCCCG\") == (20, (10, 28), 7, ['C',  'S',  'C',  'C',  'C',  'C',  'C',  'S',  'C',  'C',  'C',  'D',  'C',  'C',  'C',  'C',  'S',  'C',  'S',  'S'])\n",
    "assert dna(\"GACACACACTTGGATCTTCG\") == (566, (16, 35), 6, ['C',  'S',  'C',  'C',  'C',  'S',  'S',  'C',  'C',  'C',  'C',  'C',  'S',  'S',  'S',  'C',  'C',  'C',  'C',  'C'])\n",
    "assert dna(\"TCATAGCCTCGGGATAGTAT\") == (307,  (27, 45), 7,  ['S',  'S',  'C',  'C',  'C',  'C',  'C',  'C',  'C',  'C',  'C',  'S',  'S',  'C',  'C',  'C',  'D',  'C',  'C',  'S'])\n",
    "assert dna(\"CTGGACGTTCATACATAGAC\") == (29, (21, 40), 7, ['C',  'C',  'C',  'C',  'C',  'C',  'S',  'C',  'C',  'S',  'S',  'S',  'C',  'S',  'C',  'S',  'C',  'C',  'C',  'S'])\n",
    "assert dna(\"ACGTTTTACCCCAAAGCCCG\") == (754, (4, 23), 7, ['C',  'S',  'S',  'S',  'S',  'C',  'C',  'C',  'C',  'S',  'C',  'C',  'C',  'C',  'C',  'C',  'S',  'C',  'S',  'C'])\n",
    "assert dna(\"CGGGTAGAAATCTCCGCTTG\") == (362, (30, 49), 6, ['S',  'C',  'C',  'C',  'C',  'C',  'C',  'C',  'S',  'S',  'C',  'C',  'S',  'C',  'C',  'S',  'S',  'C',  'C',  'C'])\n",
    "print(\"All tests passed!\")"
   ]
  }
 ],
 "metadata": {
  "colab": {
   "collapsed_sections": [],
   "name": "4.5.ipynb",
   "provenance": []
  },
  "kernelspec": {
   "display_name": "Python 3 (ipykernel)",
   "language": "python",
   "name": "python3"
  },
  "language_info": {
   "codemirror_mode": {
    "name": "ipython",
    "version": 3
   },
   "file_extension": ".py",
   "mimetype": "text/x-python",
   "name": "python",
   "nbconvert_exporter": "python",
   "pygments_lexer": "ipython3",
   "version": "3.11.4"
  }
 },
 "nbformat": 4,
 "nbformat_minor": 4
}
