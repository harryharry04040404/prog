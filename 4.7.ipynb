{
 "cells": [
  {
   "cell_type": "markdown",
   "metadata": {
    "id": "Wwhw_mq0ZtJB"
   },
   "source": [
    "# Capítol 4 - Algorismes i Text"
   ]
  },
  {
   "cell_type": "markdown",
   "metadata": {
    "id": "i1CEFICYZtJO"
   },
   "source": [
    "### 4.7 Subcadena més llarga sense cap caràcter repetit"
   ]
  },
  {
   "cell_type": "markdown",
   "metadata": {},
   "source": [
    "Escriu una funció anomenada *subcadena_mes_llarga* que, donada una cadena de caràcters, identifiqui la subcadena més llarga que no contingui cap caràcter repetit.\n",
    "\n",
    "Per exemple, per a la cadena \"lacadenamesllarga\", la subcadena més llarga sense cap caràcter repetit és \"namesl\""
   ]
  },
  {
   "cell_type": "markdown",
   "metadata": {},
   "source": [
    "Pensa en fer suficients proves per comprovar que el teu algorisme funciona. Pensa en casos extrems dels quals saps la solució, per exemple, què passa si la cadena només té un sol caràcter? O què passa si les lletres repetides van només al principi o només al final?"
   ]
  },
  {
   "cell_type": "code",
   "execution_count": null,
   "metadata": {
    "id": "i2meRnZHZtJO"
   },
   "outputs": [],
   "source": [
    "\"\"\"\n",
    "    Aquesta funció identifica la subcadena més llarga sense cap caràcter repetit.\n",
    "    \n",
    "    Parameters\n",
    "    ----------\n",
    "    cadena: string \n",
    "        Cadena donada\n",
    "        \n",
    "    Returns\n",
    "    -------\n",
    "    subcadena: string\n",
    "        Subcadena més llarga sense caràcters repetits\n",
    "\"\"\"\n",
    "def subcadena_mes_llarga(cadena):\n",
    "    \n",
    "    return cadena[iniciSubcadena:finalSubcadena]"
   ]
  },
  {
   "cell_type": "code",
   "execution_count": null,
   "metadata": {
    "id": "ROtgFUKbZtJO"
   },
   "outputs": [],
   "source": [
    "assert subcadena_mes_llarga('lacadenamesllarga') == 'namesl'\n",
    "assert subcadena_mes_llarga('mesllarga') == 'mesl'\n",
    "assert subcadena_mes_llarga('aaa') ==  'a'"
   ]
  },
  {
   "cell_type": "markdown",
   "metadata": {
    "id": "Lq4upSCXZtJP"
   },
   "source": [
    "La complexitat de l'algorisme és O( )."
   ]
  }
 ],
 "metadata": {
  "colab": {
   "collapsed_sections": [],
   "name": "4.7.ipynb",
   "provenance": []
  },
  "kernelspec": {
   "display_name": "Python 3 (ipykernel)",
   "language": "python",
   "name": "python3"
  },
  "language_info": {
   "codemirror_mode": {
    "name": "ipython",
    "version": 3
   },
   "file_extension": ".py",
   "mimetype": "text/x-python",
   "name": "python",
   "nbconvert_exporter": "python",
   "pygments_lexer": "ipython3",
   "version": "3.11.4"
  }
 },
 "nbformat": 4,
 "nbformat_minor": 4
}
