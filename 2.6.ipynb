{
 "cells": [
  {
   "cell_type": "markdown",
   "metadata": {
    "id": "r-2AKhZFPnlK"
   },
   "source": [
    "# Capítol 2 - Algorismes bàsics de Python"
   ]
  },
  {
   "cell_type": "markdown",
   "metadata": {
    "id": "W6CkG5WuPnlY"
   },
   "source": [
    "### 2.6 Palindrom"
   ]
  },
  {
   "cell_type": "code",
   "execution_count": null,
   "metadata": {
    "id": "0F4P6uczPnlY"
   },
   "outputs": [],
   "source": [
    "    \"\"\"\n",
    "    Aquesta funció crea tots els palíndroms possibles amb les lletres de la cadena donada.\n",
    "    \n",
    "    Parameters\n",
    "    ----------\n",
    "    cadena: string\n",
    "        La cadena donada\n",
    "    \n",
    "    Returns\n",
    "    -------\n",
    "    None\n",
    "    \"\"\"  "
   ]
  },
  {
   "cell_type": "code",
   "execution_count": 1,
   "metadata": {},
   "outputs": [],
   "source": [
    "import itertools\n",
    "\n",
    "def generar_palindroms(cadena):\n",
    "    paraula2 = \"\"\n",
    "    for i in range(len(cadena)):\n",
    "        paraula2 = cadena[i:] + cadena[:i]\n",
    "        if paraula2 == paraula2[::-1]:\n",
    "            print(paraula2)"
   ]
  },
  {
   "cell_type": "code",
   "execution_count": 2,
   "metadata": {
    "id": "5ksXCJ-GPnlY",
    "outputId": "846f5b63-a616-4be1-8765-368eb05296eb"
   },
   "outputs": [
    {
     "name": "stdout",
     "output_type": "stream",
     "text": [
      "anna\n",
      "naan\n",
      "abtba\n"
     ]
    }
   ],
   "source": [
    "generar_palindroms('aarrj')\n",
    "generar_palindroms('aann')\n",
    "generar_palindroms('aabtb')"
   ]
  }
 ],
 "metadata": {
  "colab": {
   "collapsed_sections": [],
   "name": "2.6.ipynb",
   "provenance": []
  },
  "kernelspec": {
   "display_name": "Python 3 (ipykernel)",
   "language": "python",
   "name": "python3"
  },
  "language_info": {
   "codemirror_mode": {
    "name": "ipython",
    "version": 3
   },
   "file_extension": ".py",
   "mimetype": "text/x-python",
   "name": "python",
   "nbconvert_exporter": "python",
   "pygments_lexer": "ipython3",
   "version": "3.11.4"
  }
 },
 "nbformat": 4,
 "nbformat_minor": 1
}
