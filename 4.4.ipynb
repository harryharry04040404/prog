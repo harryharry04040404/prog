{
 "cells": [
  {
   "cell_type": "markdown",
   "metadata": {
    "id": "3o3r06ZwdZrY"
   },
   "source": [
    "# Capítol 4 - Algorismes i Text"
   ]
  },
  {
   "cell_type": "markdown",
   "metadata": {
    "id": "qansbtWydZrg"
   },
   "source": [
    "### 4.4 Totes les subcadenes"
   ]
  },
  {
   "cell_type": "code",
   "execution_count": 76,
   "metadata": {
    "id": "aL0b76TVdZrg"
   },
   "outputs": [
    {
     "data": {
      "text/plain": [
       "[]"
      ]
     },
     "execution_count": 76,
     "metadata": {},
     "output_type": "execute_result"
    }
   ],
   "source": [
    "\"\"\"\n",
    "    Aquesta funció retorna totes les subcadenes de la cadena donada\n",
    "    \n",
    "    Parameters\n",
    "    ----------\n",
    "    cadena: string\n",
    "    \n",
    "    Returns\n",
    "    -------\n",
    "    subcadenes: list\n",
    "\"\"\"\n",
    "def totes_subcadenes(cadena):    \n",
    "#     while len(sub_cadenes) < int((len(cadena)**2 + 1)/2):\n",
    "\n",
    "#     for i in range( len(cadena)):\n",
    "#         for j in range(i, len(cadena)):\n",
    "#             sub_cadenes.append(cadena[i:j +1])\n",
    "#     return sub_cadenes\n",
    "    \n",
    "#     return [\n",
    "#         cadena[i:j+1]\n",
    "#         for i in range(len(cadena)) \n",
    "#         for j in range(i, len(cadena))\n",
    "#     ]\n",
    "\n",
    "    sub_cadenes = [cadena[i:j+1] for i in range(len(cadena)) for j in range(i, len(cadena))]\n",
    "\n",
    "    sub_cadenes2 = [sub_cadenes[k] for k in range(len(sub_cadenes)) for l in range(k, len(sub_cadenes)) if all(char1 != char2 for char1, char2 in zip(sub_cadenes[k], sub_cadenes[l]))\n",
    "    ]\n",
    "    return sub_cadenes2\n",
    "\n",
    "totes_subcadenes('aaaa')"
   ]
  },
  {
   "cell_type": "code",
   "execution_count": 44,
   "metadata": {
    "id": "vK9NuQOKdZrg"
   },
   "outputs": [],
   "source": [
    "assert len(totes_subcadenes('abcd')) == int((len('abcd') *(len('abcd') + 1)/2))\n",
    "assert totes_subcadenes('abcd') == ['a', 'ab', 'abc', 'abcd', 'b', 'bc', 'bcd', 'c', 'cd', 'd']"
   ]
  }
 ],
 "metadata": {
  "colab": {
   "collapsed_sections": [],
   "name": "4.4.ipynb",
   "provenance": []
  },
  "kernelspec": {
   "display_name": "Python 3 (ipykernel)",
   "language": "python",
   "name": "python3"
  },
  "language_info": {
   "codemirror_mode": {
    "name": "ipython",
    "version": 3
   },
   "file_extension": ".py",
   "mimetype": "text/x-python",
   "name": "python",
   "nbconvert_exporter": "python",
   "pygments_lexer": "ipython3",
   "version": "3.11.4"
  }
 },
 "nbformat": 4,
 "nbformat_minor": 1
}
