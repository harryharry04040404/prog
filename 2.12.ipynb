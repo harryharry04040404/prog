{
 "cells": [
  {
   "cell_type": "markdown",
   "metadata": {
    "id": "8f05sWd8Mr45"
   },
   "source": [
    "# Capítol 2 - Algorismes bàsics de Python"
   ]
  },
  {
   "cell_type": "markdown",
   "metadata": {
    "id": "zDweDCC-Mr5K"
   },
   "source": [
    "### 2.12 Nombres amics"
   ]
  },
  {
   "cell_type": "markdown",
   "metadata": {},
   "source": [
    "Diem que dos nombres són amics si els divisors d'un, sumats, són equivalents a l'altre nombre i viceversa. Per exemple:\n",
    "- Els divisors de $220$ són $1,2,4,5,10,11,20,22,44,55,110$ que sumen $284$.\n",
    "- Els divisors de $284$ són $1,2,4,71, 142$, que sumen $220$.\n",
    "\n",
    "Per tant, $220$ i $284$ són amics. Escriu una funció que determini si una parella de nombres són amics. Fes servir aquesta plantilla per escriure el teu codi."
   ]
  },
  {
   "cell_type": "code",
   "execution_count": null,
   "metadata": {
    "id": "a9j3mUAKMr5K"
   },
   "outputs": [],
   "source": [
    "\n",
    "    \"\"\"\n",
    "    Aquesta funció comprova si dos nombres són amics.\n",
    "    \n",
    "    Parameters\n",
    "    ----------\n",
    "    num1: int\n",
    "        El primer número\n",
    "    num2: int\n",
    "        El segon números\n",
    "    \n",
    "    Returns\n",
    "    -------\n",
    "    b: bool\n",
    "        Si la parella de nombres d'entrada són amics    \n",
    "    \"\"\"\n"
   ]
  },
  {
   "cell_type": "code",
   "execution_count": 47,
   "metadata": {},
   "outputs": [],
   "source": [
    "def divisors(num):\n",
    "    sumDiv = 1\n",
    "    for i in range(num):\n",
    "        if i > 0:\n",
    "            if (num % i == 0):\n",
    "                sumDiv += i\n",
    "    return sumDiv"
   ]
  },
  {
   "cell_type": "code",
   "execution_count": 48,
   "metadata": {},
   "outputs": [
    {
     "data": {
      "text/plain": [
       "True"
      ]
     },
     "execution_count": 48,
     "metadata": {},
     "output_type": "execute_result"
    }
   ],
   "source": [
    "def amics(num1, num2):\n",
    "    b = False\n",
    "    \n",
    "    sumDivNum1 = divisors(num1) - 1\n",
    "    sumDivNum2 = divisors(num2) - 1\n",
    "       \n",
    "    if (sumDivNum1 == num2) and (sumDivNum2 == num1):\n",
    "        b = True    \n",
    "    return b\n",
    "\n",
    "amics(220, 284)"
   ]
  },
  {
   "cell_type": "code",
   "execution_count": 49,
   "metadata": {
    "id": "ZrkR02ENMr5K"
   },
   "outputs": [],
   "source": [
    "assert amics(220, 284) == True\n",
    "assert amics(200, 230) == False\n",
    "assert amics(9363584, 9437056) == True"
   ]
  }
 ],
 "metadata": {
  "colab": {
   "collapsed_sections": [],
   "name": "2.12.ipynb",
   "provenance": []
  },
  "kernelspec": {
   "display_name": "Python 3 (ipykernel)",
   "language": "python",
   "name": "python3"
  },
  "language_info": {
   "codemirror_mode": {
    "name": "ipython",
    "version": 3
   },
   "file_extension": ".py",
   "mimetype": "text/x-python",
   "name": "python",
   "nbconvert_exporter": "python",
   "pygments_lexer": "ipython3",
   "version": "3.11.4"
  },
  "vscode": {
   "interpreter": {
    "hash": "b7d5521a80c2c370047c8b3946d4b51cbe9eac44fad1075e96f476b66b4a61cb"
   }
  }
 },
 "nbformat": 4,
 "nbformat_minor": 1
}
