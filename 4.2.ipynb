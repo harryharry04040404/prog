{
 "cells": [
  {
   "cell_type": "markdown",
   "metadata": {
    "id": "uDBDG-H-Zkj7"
   },
   "source": [
    "# Capítol 4 - Algorismes i Text"
   ]
  },
  {
   "cell_type": "markdown",
   "metadata": {
    "id": "et-0wFEdZkj_"
   },
   "source": [
    "### 4.2 Alfabet aviació"
   ]
  },
  {
   "cell_type": "code",
   "execution_count": null,
   "metadata": {
    "id": "ULOh88iiZkkA"
   },
   "outputs": [],
   "source": [
    "    \"\"\"\n",
    "    Aquesta funció converteix una cadena d'entrada a l'alfabet fonètic.\n",
    "    \n",
    "    Parameters\n",
    "    ----------\n",
    "    cadena: string\n",
    "    \n",
    "    Returns\n",
    "    -------\n",
    "    traduccio: string\n",
    "    \"\"\""
   ]
  },
  {
   "cell_type": "code",
   "execution_count": 20,
   "metadata": {},
   "outputs": [
    {
     "name": "stdout",
     "output_type": "stream",
     "text": [
      "enter your string: yth\n",
      "['Yankee', 'Tango', 'Hotel']\n"
     ]
    }
   ],
   "source": [
    " new_cadena = input(\"enter your string: \")\n",
    "def aviacio(cadena):\n",
    "    dict = {\"H\": \"Hotel\", \"T\":\"Tango\", \"Y\":\"Yankee\"}\n",
    "    cadena = cadena.upper()\n",
    "    traduccio = cadena.split()\n",
    "    for word in cadena:\n",
    "        traduccio.append(dict[word])\n",
    "    traduccio.remove(\"YTH\")\n",
    "    return traduccio   \n",
    "\n",
    "aviation_language = aviacio(new_cadena)\n",
    "print(aviation_language)"
   ]
  },
  {
   "cell_type": "code",
   "execution_count": 23,
   "metadata": {
    "id": "vir4DprpZkkA"
   },
   "outputs": [],
   "source": [
    "assert aviacio('YtH') == ['Yankee', 'Tango', 'Hotel']"
   ]
  }
 ],
 "metadata": {
  "colab": {
   "collapsed_sections": [],
   "name": "4.2.ipynb",
   "provenance": []
  },
  "kernelspec": {
   "display_name": "Python 3 (ipykernel)",
   "language": "python",
   "name": "python3"
  },
  "language_info": {
   "codemirror_mode": {
    "name": "ipython",
    "version": 3
   },
   "file_extension": ".py",
   "mimetype": "text/x-python",
   "name": "python",
   "nbconvert_exporter": "python",
   "pygments_lexer": "ipython3",
   "version": "3.11.4"
  }
 },
 "nbformat": 4,
 "nbformat_minor": 1
}
