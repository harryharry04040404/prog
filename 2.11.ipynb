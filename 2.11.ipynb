{
 "cells": [
  {
   "cell_type": "markdown",
   "metadata": {
    "id": "6yEUQux4NZR3"
   },
   "source": [
    "# Capítol 2 - Algorismes bàsics de Python"
   ]
  },
  {
   "cell_type": "markdown",
   "metadata": {
    "id": "guMfRCGiNZSG"
   },
   "source": [
    "### 2.11 Suma quadrats"
   ]
  },
  {
   "cell_type": "code",
   "execution_count": null,
   "metadata": {
    "id": "6qKOMjfENZSG"
   },
   "outputs": [],
   "source": [
    "    \"\"\"\n",
    "    Aquesta funció calcula la diferencia entre la suma dels quadrats i els quadrat de la suma.\n",
    "    \n",
    "    Parameters\n",
    "    ----------\n",
    "    n: int\n",
    "    \n",
    "    Returns\n",
    "    -------\n",
    "    diff: int\n",
    "    \"\"\"\n",
    "    \n",
    "  "
   ]
  },
  {
   "cell_type": "code",
   "execution_count": 55,
   "metadata": {},
   "outputs": [],
   "source": [
    "def suma_quadrats(n = 100):\n",
    "    s = 0\n",
    "    sq = 0\n",
    "    qs  = 0\n",
    "    for i  in range(n + 1):\n",
    "        sq += i**2\n",
    "        qs += i\n",
    "    qs = qs**2\n",
    "    s = qs - sq\n",
    "    return s"
   ]
  },
  {
   "cell_type": "code",
   "execution_count": null,
   "metadata": {
    "id": "s6IonEXxNZSH"
   },
   "outputs": [],
   "source": [
    "    \"\"\"\n",
    "    Aquesta funció calcula la diferencia entre la suma dels quadrats i els quadrat de la suma.\n",
    "    \n",
    "    Parameters\n",
    "    ----------\n",
    "    n: int\n",
    "    \n",
    "    Returns\n",
    "    -------\n",
    "    diff: int\n",
    "    \"\"\""
   ]
  },
  {
   "cell_type": "code",
   "execution_count": 58,
   "metadata": {},
   "outputs": [],
   "source": [
    "def suma_quadrats_lineal(n = 100): \n",
    "    return  sum([i for i  in range(n + 1)])**2 -  sum([i**2 for i  in range(n + 1)])"
   ]
  },
  {
   "cell_type": "code",
   "execution_count": 60,
   "metadata": {},
   "outputs": [
    {
     "name": "stdout",
     "output_type": "stream",
     "text": [
      "1.03 ms ± 10.9 µs per loop (mean ± std. dev. of 7 runs, 1,000 loops each)\n"
     ]
    }
   ],
   "source": [
    "%timeit suma_quadrats_lineal(5000)\n",
    "#%timeit suma_quadrats(5000)"
   ]
  },
  {
   "cell_type": "code",
   "execution_count": 59,
   "metadata": {
    "id": "s0GXpp0rNZSH",
    "scrolled": true
   },
   "outputs": [],
   "source": [
    "assert suma_quadrats() == 25164150\n",
    "assert suma_quadrats_lineal() == 25164150"
   ]
  }
 ],
 "metadata": {
  "colab": {
   "collapsed_sections": [],
   "name": "2.11.ipynb",
   "provenance": []
  },
  "kernelspec": {
   "display_name": "Python 3 (ipykernel)",
   "language": "python",
   "name": "python3"
  },
  "language_info": {
   "codemirror_mode": {
    "name": "ipython",
    "version": 3
   },
   "file_extension": ".py",
   "mimetype": "text/x-python",
   "name": "python",
   "nbconvert_exporter": "python",
   "pygments_lexer": "ipython3",
   "version": "3.11.4"
  }
 },
 "nbformat": 4,
 "nbformat_minor": 1
}
